{
  "cells": [
    {
      "cell_type": "markdown",
      "metadata": {},
      "source": [
        "This notebook is currently in progress"
      ]
    },
    {
      "cell_type": "markdown",
      "metadata": {
        "id": "mnJ0vsWTqMYV"
      },
      "source": [
        "# GEE Aster Preprocessing"
      ]
    },
    {
      "cell_type": "markdown",
      "metadata": {},
      "source": [
        "## Step 1: Create a google earth engine account"
      ]
    },
    {
      "cell_type": "markdown",
      "metadata": {},
      "source": [
        "Follow this [link](https://code.earthengine.google.com/register) to create a GEE account"
      ]
    },
    {
      "cell_type": "markdown",
      "metadata": {
        "id": "H5KlcAUeqUll"
      },
      "source": [
        "## Step 2: Installation\n"
      ]
    },
    {
      "cell_type": "code",
      "execution_count": null,
      "metadata": {
        "colab": {
          "base_uri": "https://localhost:8080/"
        },
        "id": "0fV1dwdPpQVv",
        "outputId": "806a7050-31e3-49a4-9d54-2f4b1ec24aa5"
      },
      "outputs": [],
      "source": [
        "%pip install git+https://github.com/Mining-for-the-Future/ASTER_preprocessing.git@visualization"
      ]
    },
    {
      "cell_type": "markdown",
      "metadata": {
        "id": "BghUwRKZqgwN"
      },
      "source": [
        "## Step 3: Importing Libraries"
      ]
    },
    {
      "cell_type": "code",
      "execution_count": null,
      "metadata": {},
      "outputs": [],
      "source": [
        "%pip install geemap"
      ]
    },
    {
      "cell_type": "markdown",
      "metadata": {},
      "source": [
        "importing these modules should trigger the google earth engine authentication process."
      ]
    },
    {
      "cell_type": "code",
      "execution_count": null,
      "metadata": {},
      "outputs": [],
      "source": [
        "from ASTER_preprocessing.preprocessing import aster_preprocessing\n",
        "from ASTER_preprocessing.vis_params import vis_params"
      ]
    },
    {
      "cell_type": "code",
      "execution_count": 4,
      "metadata": {
        "id": "aZznxmEdvLD9"
      },
      "outputs": [],
      "source": [
        "import geemap"
      ]
    },
    {
      "cell_type": "markdown",
      "metadata": {
        "id": "tQWLimPAq-NW"
      },
      "source": [
        "## Step 4: Preprocess ASTER Imagery Using a Drawn Polygon"
      ]
    },
    {
      "cell_type": "code",
      "execution_count": null,
      "metadata": {
        "colab": {
          "base_uri": "https://localhost:8080/",
          "height": 250
        },
        "id": "gBSYZKBUrD-k",
        "outputId": "e8762f09-59c6-4649-91b3-4abcf4862edc"
      },
      "outputs": [],
      "source": [
        "# Create an interactive map\n",
        "Map = geemap.Map()\n",
        "Map"
      ]
    },
    {
      "cell_type": "code",
      "execution_count": null,
      "metadata": {
        "id": "VSSGvI48s8TG"
      },
      "outputs": [],
      "source": [
        "# Get the last drawn feature\n",
        "geometry = Map.user_roi"
      ]
    },
    {
      "cell_type": "code",
      "execution_count": null,
      "metadata": {},
      "outputs": [],
      "source": [
        "img_dict = aster_preprocessing(geometry)"
      ]
    },
    {
      "cell_type": "markdown",
      "metadata": {},
      "source": [
        "## Step 5: Visualize the image"
      ]
    },
    {
      "cell_type": "code",
      "execution_count": null,
      "metadata": {},
      "outputs": [],
      "source": [
        "map2 = geemap.Map()\n",
        "map2.centerObject(geometry)\n",
        "map2.addLayer(img_dict['imagery'], vis_params(img_dict, geometry, ['B07', 'B3N', 'B01']), 'ASTER')\n",
        "map2"
      ]
    }
  ],
  "metadata": {
    "colab": {
      "provenance": []
    },
    "kernelspec": {
      "display_name": "Python 3",
      "name": "python3"
    },
    "language_info": {
      "codemirror_mode": {
        "name": "ipython",
        "version": 3
      },
      "file_extension": ".py",
      "mimetype": "text/x-python",
      "name": "python",
      "nbconvert_exporter": "python",
      "pygments_lexer": "ipython3",
      "version": "3.10.9"
    }
  },
  "nbformat": 4,
  "nbformat_minor": 0
}
