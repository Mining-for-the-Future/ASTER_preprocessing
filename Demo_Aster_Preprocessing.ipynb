{
  "cells": [
    {
      "cell_type": "markdown",
      "metadata": {},
      "source": [
        "This notebook is currently in progress"
      ]
    },
    {
      "cell_type": "markdown",
      "metadata": {
        "id": "mnJ0vsWTqMYV"
      },
      "source": [
        "# GEE Aster Preprocessing"
      ]
    },
    {
      "cell_type": "markdown",
      "metadata": {},
      "source": [
        "## Step 1: Create a google cloud project"
      ]
    },
    {
      "cell_type": "markdown",
      "metadata": {},
      "source": [
        "Follow this link to create a google could project: https://cloud.google.com/resource-manager/docs/creating-managing-projects"
      ]
    },
    {
      "cell_type": "markdown",
      "metadata": {
        "id": "H5KlcAUeqUll"
      },
      "source": [
        "## Step 2: Installation\n"
      ]
    },
    {
      "cell_type": "code",
      "execution_count": 1,
      "metadata": {
        "colab": {
          "base_uri": "https://localhost:8080/"
        },
        "id": "0fV1dwdPpQVv",
        "outputId": "806a7050-31e3-49a4-9d54-2f4b1ec24aa5"
      },
      "outputs": [
        {
          "name": "stdout",
          "output_type": "stream",
          "text": [
            "Collecting git+https://github.com/Mining-for-the-Future/ASTER_preprocessing.git@Authentification_issue\n",
            "  Cloning https://github.com/Mining-for-the-Future/ASTER_preprocessing.git (to revision Authentification_issue) to c:\\users\\eweav\\appdata\\local\\temp\\pip-req-build-dhh_qwfd\n",
            "  Resolved https://github.com/Mining-for-the-Future/ASTER_preprocessing.git to commit eb2b245cbbdc2dd1360b6d31143736c6719a4a16\n",
            "  Preparing metadata (setup.py): started\n",
            "  Preparing metadata (setup.py): finished with status 'done'\n",
            "Requirement already satisfied: earthengine-api in c:\\users\\eweav\\anaconda3\\envs\\blank_test_aster_preprocessing\\lib\\site-packages (from ASTER-Preprocessing==0.1.0) (0.1.386)\n",
            "Requirement already satisfied: google-cloud-storage in c:\\users\\eweav\\anaconda3\\envs\\blank_test_aster_preprocessing\\lib\\site-packages (from earthengine-api->ASTER-Preprocessing==0.1.0) (2.14.0)\n",
            "Requirement already satisfied: google-api-python-client>=1.12.1 in c:\\users\\eweav\\anaconda3\\envs\\blank_test_aster_preprocessing\\lib\\site-packages (from earthengine-api->ASTER-Preprocessing==0.1.0) (2.116.0)\n",
            "Requirement already satisfied: google-auth>=1.4.1 in c:\\users\\eweav\\anaconda3\\envs\\blank_test_aster_preprocessing\\lib\\site-packages (from earthengine-api->ASTER-Preprocessing==0.1.0) (2.27.0)\n",
            "Requirement already satisfied: google-auth-httplib2>=0.0.3 in c:\\users\\eweav\\anaconda3\\envs\\blank_test_aster_preprocessing\\lib\\site-packages (from earthengine-api->ASTER-Preprocessing==0.1.0) (0.2.0)\n",
            "Requirement already satisfied: httplib2<1dev,>=0.9.2 in c:\\users\\eweav\\anaconda3\\envs\\blank_test_aster_preprocessing\\lib\\site-packages (from earthengine-api->ASTER-Preprocessing==0.1.0) (0.22.0)\n",
            "Requirement already satisfied: requests in c:\\users\\eweav\\anaconda3\\envs\\blank_test_aster_preprocessing\\lib\\site-packages (from earthengine-api->ASTER-Preprocessing==0.1.0) (2.31.0)\n",
            "Requirement already satisfied: google-api-core!=2.0.*,!=2.1.*,!=2.2.*,!=2.3.0,<3.0.0.dev0,>=1.31.5 in c:\\users\\eweav\\anaconda3\\envs\\blank_test_aster_preprocessing\\lib\\site-packages (from google-api-python-client>=1.12.1->earthengine-api->ASTER-Preprocessing==0.1.0) (2.16.1)\n",
            "Requirement already satisfied: uritemplate<5,>=3.0.1 in c:\\users\\eweav\\anaconda3\\envs\\blank_test_aster_preprocessing\\lib\\site-packages (from google-api-python-client>=1.12.1->earthengine-api->ASTER-Preprocessing==0.1.0) (4.1.1)\n",
            "Requirement already satisfied: cachetools<6.0,>=2.0.0 in c:\\users\\eweav\\anaconda3\\envs\\blank_test_aster_preprocessing\\lib\\site-packages (from google-auth>=1.4.1->earthengine-api->ASTER-Preprocessing==0.1.0) (5.3.2)\n",
            "Requirement already satisfied: pyasn1-modules>=0.2.1 in c:\\users\\eweav\\anaconda3\\envs\\blank_test_aster_preprocessing\\lib\\site-packages (from google-auth>=1.4.1->earthengine-api->ASTER-Preprocessing==0.1.0) (0.3.0)\n",
            "Requirement already satisfied: rsa<5,>=3.1.4 in c:\\users\\eweav\\anaconda3\\envs\\blank_test_aster_preprocessing\\lib\\site-packages (from google-auth>=1.4.1->earthengine-api->ASTER-Preprocessing==0.1.0) (4.9)\n",
            "Requirement already satisfied: pyparsing!=3.0.0,!=3.0.1,!=3.0.2,!=3.0.3,<4,>=2.4.2 in c:\\users\\eweav\\anaconda3\\envs\\blank_test_aster_preprocessing\\lib\\site-packages (from httplib2<1dev,>=0.9.2->earthengine-api->ASTER-Preprocessing==0.1.0) (3.1.1)\n",
            "Requirement already satisfied: google-cloud-core<3.0dev,>=2.3.0 in c:\\users\\eweav\\anaconda3\\envs\\blank_test_aster_preprocessing\\lib\\site-packages (from google-cloud-storage->earthengine-api->ASTER-Preprocessing==0.1.0) (2.4.1)\n",
            "Requirement already satisfied: google-resumable-media>=2.6.0 in c:\\users\\eweav\\anaconda3\\envs\\blank_test_aster_preprocessing\\lib\\site-packages (from google-cloud-storage->earthengine-api->ASTER-Preprocessing==0.1.0) (2.7.0)\n",
            "Requirement already satisfied: google-crc32c<2.0dev,>=1.0 in c:\\users\\eweav\\anaconda3\\envs\\blank_test_aster_preprocessing\\lib\\site-packages (from google-cloud-storage->earthengine-api->ASTER-Preprocessing==0.1.0) (1.5.0)\n",
            "Requirement already satisfied: charset-normalizer<4,>=2 in c:\\users\\eweav\\anaconda3\\envs\\blank_test_aster_preprocessing\\lib\\site-packages (from requests->earthengine-api->ASTER-Preprocessing==0.1.0) (3.3.2)\n",
            "Requirement already satisfied: idna<4,>=2.5 in c:\\users\\eweav\\anaconda3\\envs\\blank_test_aster_preprocessing\\lib\\site-packages (from requests->earthengine-api->ASTER-Preprocessing==0.1.0) (3.6)\n",
            "Requirement already satisfied: urllib3<3,>=1.21.1 in c:\\users\\eweav\\anaconda3\\envs\\blank_test_aster_preprocessing\\lib\\site-packages (from requests->earthengine-api->ASTER-Preprocessing==0.1.0) (2.2.0)\n",
            "Requirement already satisfied: certifi>=2017.4.17 in c:\\users\\eweav\\anaconda3\\envs\\blank_test_aster_preprocessing\\lib\\site-packages (from requests->earthengine-api->ASTER-Preprocessing==0.1.0) (2023.11.17)\n",
            "Requirement already satisfied: googleapis-common-protos<2.0.dev0,>=1.56.2 in c:\\users\\eweav\\anaconda3\\envs\\blank_test_aster_preprocessing\\lib\\site-packages (from google-api-core!=2.0.*,!=2.1.*,!=2.2.*,!=2.3.0,<3.0.0.dev0,>=1.31.5->google-api-python-client>=1.12.1->earthengine-api->ASTER-Preprocessing==0.1.0) (1.62.0)\n",
            "Requirement already satisfied: protobuf!=3.20.0,!=3.20.1,!=4.21.0,!=4.21.1,!=4.21.2,!=4.21.3,!=4.21.4,!=4.21.5,<5.0.0.dev0,>=3.19.5 in c:\\users\\eweav\\anaconda3\\envs\\blank_test_aster_preprocessing\\lib\\site-packages (from google-api-core!=2.0.*,!=2.1.*,!=2.2.*,!=2.3.0,<3.0.0.dev0,>=1.31.5->google-api-python-client>=1.12.1->earthengine-api->ASTER-Preprocessing==0.1.0) (4.25.2)\n",
            "Requirement already satisfied: pyasn1<0.6.0,>=0.4.6 in c:\\users\\eweav\\anaconda3\\envs\\blank_test_aster_preprocessing\\lib\\site-packages (from pyasn1-modules>=0.2.1->google-auth>=1.4.1->earthengine-api->ASTER-Preprocessing==0.1.0) (0.5.1)\n",
            "Note: you may need to restart the kernel to use updated packages.\n"
          ]
        },
        {
          "name": "stderr",
          "output_type": "stream",
          "text": [
            "  Running command git clone --filter=blob:none --quiet https://github.com/Mining-for-the-Future/ASTER_preprocessing.git 'C:\\Users\\eweav\\AppData\\Local\\Temp\\pip-req-build-dhh_qwfd'\n",
            "  Running command git checkout -b Authentification_issue --track origin/Authentification_issue\n",
            "  branch 'Authentification_issue' set up to track 'origin/Authentification_issue'.\n",
            "  Switched to a new branch 'Authentification_issue'\n"
          ]
        }
      ],
      "source": [
        "%pip install git+https://github.com/Mining-for-the-Future/ASTER_preprocessing.git@Authentification_issue"
      ]
    },
    {
      "cell_type": "markdown",
      "metadata": {
        "id": "BghUwRKZqgwN"
      },
      "source": [
        "## Step 3: Importing Libraries"
      ]
    },
    {
      "cell_type": "code",
      "execution_count": 2,
      "metadata": {
        "id": "8yC_bbTMLh4Y"
      },
      "outputs": [],
      "source": [
        "import ASTER_preprocessing"
      ]
    },
    {
      "cell_type": "code",
      "execution_count": 3,
      "metadata": {},
      "outputs": [
        {
          "data": {
            "text/html": [
              "<p>To authorize access needed by Earth Engine, open the following\n",
              "        URL in a web browser and follow the instructions:</p>\n",
              "        <p><a href=https://code.earthengine.google.com/client-auth?scopes=https%3A//www.googleapis.com/auth/earthengine%20https%3A//www.googleapis.com/auth/cloud-platform%20https%3A//www.googleapis.com/auth/devstorage.full_control&request_id=agxSUAYhu5xhoJ5ErTDXf6bb7iCg6ee2ltmOOBPdwmU&tc=SmiZo8oTAdCcj-5Op5zGb9YbfQTgf6jl9-Z25-5UJeo&cc=HmLmJ6bVrzS9x11k0bEKEd675CxaxvxMW1WHh_6cntQ>https://code.earthengine.google.com/client-auth?scopes=https%3A//www.googleapis.com/auth/earthengine%20https%3A//www.googleapis.com/auth/cloud-platform%20https%3A//www.googleapis.com/auth/devstorage.full_control&request_id=agxSUAYhu5xhoJ5ErTDXf6bb7iCg6ee2ltmOOBPdwmU&tc=SmiZo8oTAdCcj-5Op5zGb9YbfQTgf6jl9-Z25-5UJeo&cc=HmLmJ6bVrzS9x11k0bEKEd675CxaxvxMW1WHh_6cntQ</a></p>\n",
              "        <p>The authorization workflow will generate a code, which you should paste in the box below.</p>\n",
              "        "
            ],
            "text/plain": [
              "<IPython.core.display.HTML object>"
            ]
          },
          "metadata": {},
          "output_type": "display_data"
        },
        {
          "name": "stdout",
          "output_type": "stream",
          "text": [
            "\n",
            "Successfully saved authorization token.\n"
          ]
        },
        {
          "data": {
            "text/html": [
              "<p>To authorize access needed by Earth Engine, open the following\n",
              "        URL in a web browser and follow the instructions:</p>\n",
              "        <p><a href=https://code.earthengine.google.com/client-auth?scopes=https%3A//www.googleapis.com/auth/earthengine%20https%3A//www.googleapis.com/auth/cloud-platform%20https%3A//www.googleapis.com/auth/devstorage.full_control&request_id=UtrnSlxHZm3ynZld7AssXFTlWE9JkLDNR1AFwHXjO4Q&tc=drzO33Q4GCsjenaHsX2HBioINsetDSWp8n3Bl6rgVrg&cc=_S8rxGuKbrBeRB9s0l3ibIyqbczFhtvR_515z03LHyc>https://code.earthengine.google.com/client-auth?scopes=https%3A//www.googleapis.com/auth/earthengine%20https%3A//www.googleapis.com/auth/cloud-platform%20https%3A//www.googleapis.com/auth/devstorage.full_control&request_id=UtrnSlxHZm3ynZld7AssXFTlWE9JkLDNR1AFwHXjO4Q&tc=drzO33Q4GCsjenaHsX2HBioINsetDSWp8n3Bl6rgVrg&cc=_S8rxGuKbrBeRB9s0l3ibIyqbczFhtvR_515z03LHyc</a></p>\n",
              "        <p>The authorization workflow will generate a code, which you should paste in the box below.</p>\n",
              "        "
            ],
            "text/plain": [
              "<IPython.core.display.HTML object>"
            ]
          },
          "metadata": {},
          "output_type": "display_data"
        },
        {
          "name": "stdout",
          "output_type": "stream",
          "text": [
            "\n",
            "Successfully saved authorization token.\n"
          ]
        },
        {
          "data": {
            "text/html": [
              "<p>To authorize access needed by Earth Engine, open the following\n",
              "        URL in a web browser and follow the instructions:</p>\n",
              "        <p><a href=https://code.earthengine.google.com/client-auth?scopes=https%3A//www.googleapis.com/auth/earthengine%20https%3A//www.googleapis.com/auth/cloud-platform%20https%3A//www.googleapis.com/auth/devstorage.full_control&request_id=i1UOUKFEEBQTWzrX8V_qG4a2lxgqa-XbpKbyMUvwwhA&tc=q3wl_3fiXjWm8z7H35YUnZpDVBevAGSMMxDf4d7Uq3Q&cc=JGAg_bk4FCmgUq6UX3DZzKTZUQVkk89N8jxvqkjI2PY>https://code.earthengine.google.com/client-auth?scopes=https%3A//www.googleapis.com/auth/earthengine%20https%3A//www.googleapis.com/auth/cloud-platform%20https%3A//www.googleapis.com/auth/devstorage.full_control&request_id=i1UOUKFEEBQTWzrX8V_qG4a2lxgqa-XbpKbyMUvwwhA&tc=q3wl_3fiXjWm8z7H35YUnZpDVBevAGSMMxDf4d7Uq3Q&cc=JGAg_bk4FCmgUq6UX3DZzKTZUQVkk89N8jxvqkjI2PY</a></p>\n",
              "        <p>The authorization workflow will generate a code, which you should paste in the box below.</p>\n",
              "        "
            ],
            "text/plain": [
              "<IPython.core.display.HTML object>"
            ]
          },
          "metadata": {},
          "output_type": "display_data"
        },
        {
          "ename": "EEException",
          "evalue": "Cannot authenticate: Invalid request.",
          "output_type": "error",
          "traceback": [
            "\u001b[1;31m---------------------------------------------------------------------------\u001b[0m",
            "\u001b[1;31mEEException\u001b[0m                               Traceback (most recent call last)",
            "Cell \u001b[1;32mIn[3], line 1\u001b[0m\n\u001b[1;32m----> 1\u001b[0m \u001b[38;5;28;01mfrom\u001b[39;00m \u001b[38;5;21;01mASTER_preprocessing\u001b[39;00m \u001b[38;5;28;01mimport\u001b[39;00m preprocessing\n",
            "File \u001b[1;32mp:\\Eli\\Mining_for_the_Future\\ASTER_Preprocessing\\ASTER_preprocessing\\ASTER_preprocessing\\preprocessing.py:12\u001b[0m\n\u001b[0;32m      9\u001b[0m ee_i \u001b[38;5;241m=\u001b[39m initialize_ee()\n\u001b[0;32m     11\u001b[0m \u001b[38;5;28;01mfrom\u001b[39;00m \u001b[38;5;21;01m.\u001b[39;00m\u001b[38;5;21;01mdata_conversion\u001b[39;00m \u001b[38;5;28;01mimport\u001b[39;00m aster_radiance, aster_reflectance, aster_brightness_temp\n\u001b[1;32m---> 12\u001b[0m \u001b[38;5;28;01mfrom\u001b[39;00m \u001b[38;5;21;01m.\u001b[39;00m\u001b[38;5;21;01mmasks\u001b[39;00m \u001b[38;5;28;01mimport\u001b[39;00m water_mask, aster_cloud_mask, aster_snow_mask\n\u001b[0;32m     14\u001b[0m \u001b[38;5;66;03m# Filter ASTER imagery that contain all bands\u001b[39;00m\n\u001b[0;32m     15\u001b[0m \u001b[38;5;28;01mdef\u001b[39;00m \u001b[38;5;21master_bands_present_filter\u001b[39m(collection):\n",
            "File \u001b[1;32mp:\\Eli\\Mining_for_the_Future\\ASTER_Preprocessing\\ASTER_preprocessing\\ASTER_preprocessing\\masks.py:2\u001b[0m\n\u001b[0;32m      1\u001b[0m \u001b[38;5;28;01mfrom\u001b[39;00m \u001b[38;5;21;01m.\u001b[39;00m\u001b[38;5;21;01m__init__\u001b[39;00m \u001b[38;5;28;01mimport\u001b[39;00m initialize_ee\n\u001b[1;32m----> 2\u001b[0m ee_i \u001b[38;5;241m=\u001b[39m \u001b[43minitialize_ee\u001b[49m\u001b[43m(\u001b[49m\u001b[43m)\u001b[49m\n\u001b[0;32m      4\u001b[0m \u001b[38;5;28;01mdef\u001b[39;00m \u001b[38;5;21mwater_mask\u001b[39m(image):\n\u001b[0;32m      5\u001b[0m \u001b[38;5;250m  \u001b[39m\u001b[38;5;124;03m\"\"\"\u001b[39;00m\n\u001b[0;32m      6\u001b[0m \u001b[38;5;124;03m  Takes an ASTER image and masks pixels that are classified as surface water \u001b[39;00m\n\u001b[0;32m      7\u001b[0m \u001b[38;5;124;03m  in the month and year that the image was captured according to the\u001b[39;00m\n\u001b[1;32m   (...)\u001b[0m\n\u001b[0;32m     10\u001b[0m \u001b[38;5;124;03m  Returns a masked image.\u001b[39;00m\n\u001b[0;32m     11\u001b[0m \u001b[38;5;124;03m  \"\"\"\u001b[39;00m\n",
            "File \u001b[1;32mp:\\Eli\\Mining_for_the_Future\\ASTER_Preprocessing\\ASTER_preprocessing\\ASTER_preprocessing\\__init__.py:23\u001b[0m, in \u001b[0;36minitialize_ee\u001b[1;34m()\u001b[0m\n\u001b[0;32m     17\u001b[0m \u001b[38;5;28;01mdef\u001b[39;00m \u001b[38;5;21minitialize_ee\u001b[39m():\n\u001b[0;32m     18\u001b[0m \u001b[38;5;250m    \u001b[39m\u001b[38;5;124;03m\"\"\"\u001b[39;00m\n\u001b[0;32m     19\u001b[0m \u001b[38;5;124;03m    Initialize the Earth Engine API by authenticating and initializing the connection.\u001b[39;00m\n\u001b[0;32m     20\u001b[0m \u001b[38;5;124;03m    Returns:\u001b[39;00m\n\u001b[0;32m     21\u001b[0m \u001b[38;5;124;03m    ee: The initialized Earth Engine API.\u001b[39;00m\n\u001b[0;32m     22\u001b[0m \u001b[38;5;124;03m    \"\"\"\u001b[39;00m\n\u001b[1;32m---> 23\u001b[0m     \u001b[43mee\u001b[49m\u001b[38;5;241;43m.\u001b[39;49m\u001b[43mAuthenticate\u001b[49m\u001b[43m(\u001b[49m\u001b[43mforce\u001b[49m\u001b[43m \u001b[49m\u001b[38;5;241;43m=\u001b[39;49m\u001b[43m \u001b[49m\u001b[38;5;28;43;01mTrue\u001b[39;49;00m\u001b[43m)\u001b[49m\n\u001b[0;32m     24\u001b[0m     ee\u001b[38;5;241m.\u001b[39mInitialize()\n\u001b[0;32m     25\u001b[0m     \u001b[38;5;28;01mreturn\u001b[39;00m ee\n",
            "File \u001b[1;32mc:\\Users\\eweav\\anaconda3\\envs\\blank_test_aster_preprocessing\\lib\\site-packages\\ee\\__init__.py:111\u001b[0m, in \u001b[0;36mAuthenticate\u001b[1;34m(authorization_code, quiet, code_verifier, auth_mode, scopes, force)\u001b[0m\n\u001b[0;32m     80\u001b[0m \u001b[38;5;28;01mdef\u001b[39;00m \u001b[38;5;21mAuthenticate\u001b[39m(\n\u001b[0;32m     81\u001b[0m     authorization_code: Optional[\u001b[38;5;28mstr\u001b[39m] \u001b[38;5;241m=\u001b[39m \u001b[38;5;28;01mNone\u001b[39;00m,\n\u001b[0;32m     82\u001b[0m     quiet: Optional[\u001b[38;5;28mbool\u001b[39m] \u001b[38;5;241m=\u001b[39m \u001b[38;5;28;01mNone\u001b[39;00m,\n\u001b[1;32m   (...)\u001b[0m\n\u001b[0;32m     86\u001b[0m     force: \u001b[38;5;28mbool\u001b[39m \u001b[38;5;241m=\u001b[39m \u001b[38;5;28;01mFalse\u001b[39;00m,\n\u001b[0;32m     87\u001b[0m ) \u001b[38;5;241m-\u001b[39m\u001b[38;5;241m>\u001b[39m Optional[\u001b[38;5;28mbool\u001b[39m]:\n\u001b[0;32m     88\u001b[0m \u001b[38;5;250m  \u001b[39m\u001b[38;5;124;03m\"\"\"Prompts the user to authorize access to Earth Engine via OAuth2.\u001b[39;00m\n\u001b[0;32m     89\u001b[0m \n\u001b[0;32m     90\u001b[0m \u001b[38;5;124;03m  Args:\u001b[39;00m\n\u001b[1;32m   (...)\u001b[0m\n\u001b[0;32m    109\u001b[0m \u001b[38;5;124;03m    True if we found valid credentials and didn't run the auth flow.\u001b[39;00m\n\u001b[0;32m    110\u001b[0m \u001b[38;5;124;03m  \"\"\"\u001b[39;00m\n\u001b[1;32m--> 111\u001b[0m   \u001b[38;5;28;01mreturn\u001b[39;00m \u001b[43moauth\u001b[49m\u001b[38;5;241;43m.\u001b[39;49m\u001b[43mauthenticate\u001b[49m\u001b[43m(\u001b[49m\u001b[43mauthorization_code\u001b[49m\u001b[43m,\u001b[49m\u001b[43m \u001b[49m\u001b[43mquiet\u001b[49m\u001b[43m,\u001b[49m\u001b[43m \u001b[49m\u001b[43mcode_verifier\u001b[49m\u001b[43m,\u001b[49m\u001b[43m \u001b[49m\u001b[43mauth_mode\u001b[49m\u001b[43m,\u001b[49m\n\u001b[0;32m    112\u001b[0m \u001b[43m                            \u001b[49m\u001b[43mscopes\u001b[49m\u001b[43m,\u001b[49m\u001b[43m \u001b[49m\u001b[43mforce\u001b[49m\u001b[43m)\u001b[49m\n",
            "File \u001b[1;32mc:\\Users\\eweav\\anaconda3\\envs\\blank_test_aster_preprocessing\\lib\\site-packages\\ee\\oauth.py:508\u001b[0m, in \u001b[0;36mauthenticate\u001b[1;34m(cli_authorization_code, quiet, cli_code_verifier, auth_mode, scopes, force)\u001b[0m\n\u001b[0;32m    505\u001b[0m \u001b[38;5;28;01mif\u001b[39;00m flow\u001b[38;5;241m.\u001b[39mdisplay_instructions(quiet):\n\u001b[0;32m    506\u001b[0m   _open_new_browser(flow\u001b[38;5;241m.\u001b[39mauth_url)\n\u001b[1;32m--> 508\u001b[0m \u001b[43mflow\u001b[49m\u001b[38;5;241;43m.\u001b[39;49m\u001b[43msave_code\u001b[49m\u001b[43m(\u001b[49m\u001b[43m)\u001b[49m\n",
            "File \u001b[1;32mc:\\Users\\eweav\\anaconda3\\envs\\blank_test_aster_preprocessing\\lib\\site-packages\\ee\\oauth.py:558\u001b[0m, in \u001b[0;36mFlow.save_code\u001b[1;34m(self, code)\u001b[0m\n\u001b[0;32m    556\u001b[0m   redirect_uri \u001b[38;5;241m=\u001b[39m \u001b[38;5;28mself\u001b[39m\u001b[38;5;241m.\u001b[39mserver\u001b[38;5;241m.\u001b[39murl\n\u001b[0;32m    557\u001b[0m   code \u001b[38;5;241m=\u001b[39m \u001b[38;5;28mself\u001b[39m\u001b[38;5;241m.\u001b[39mserver\u001b[38;5;241m.\u001b[39mfetch_code()  \u001b[38;5;66;03m# Waits for oauth callback\u001b[39;00m\n\u001b[1;32m--> 558\u001b[0m \u001b[43m_obtain_and_write_token\u001b[49m\u001b[43m(\u001b[49m\u001b[43mcode\u001b[49m\u001b[43m,\u001b[49m\u001b[43m \u001b[49m\u001b[38;5;28;43mself\u001b[39;49m\u001b[38;5;241;43m.\u001b[39;49m\u001b[43mcode_verifier\u001b[49m\u001b[43m,\u001b[49m\u001b[43m \u001b[49m\u001b[38;5;28;43mself\u001b[39;49m\u001b[38;5;241;43m.\u001b[39;49m\u001b[43mscopes\u001b[49m\u001b[43m,\u001b[49m\u001b[43m \u001b[49m\u001b[43mredirect_uri\u001b[49m\u001b[43m)\u001b[49m\n",
            "File \u001b[1;32mc:\\Users\\eweav\\anaconda3\\envs\\blank_test_aster_preprocessing\\lib\\site-packages\\ee\\oauth.py:235\u001b[0m, in \u001b[0;36m_obtain_and_write_token\u001b[1;34m(auth_code, code_verifier, scopes, redirect_uri)\u001b[0m\n\u001b[0;32m    232\u001b[0m fetched_info \u001b[38;5;241m=\u001b[39m json\u001b[38;5;241m.\u001b[39mloads(\n\u001b[0;32m    233\u001b[0m     urllib\u001b[38;5;241m.\u001b[39mrequest\u001b[38;5;241m.\u001b[39murlopen(fetch_client)\u001b[38;5;241m.\u001b[39mread()\u001b[38;5;241m.\u001b[39mdecode())\n\u001b[0;32m    234\u001b[0m \u001b[38;5;28;01mif\u001b[39;00m \u001b[38;5;124m'\u001b[39m\u001b[38;5;124merror\u001b[39m\u001b[38;5;124m'\u001b[39m \u001b[38;5;129;01min\u001b[39;00m fetched_info:\n\u001b[1;32m--> 235\u001b[0m   \u001b[38;5;28;01mraise\u001b[39;00m ee_exception\u001b[38;5;241m.\u001b[39mEEException(\n\u001b[0;32m    236\u001b[0m       \u001b[38;5;124m'\u001b[39m\u001b[38;5;124mCannot authenticate: \u001b[39m\u001b[38;5;132;01m%s\u001b[39;00m\u001b[38;5;124m'\u001b[39m \u001b[38;5;241m%\u001b[39m fetched_info[\u001b[38;5;124m'\u001b[39m\u001b[38;5;124merror\u001b[39m\u001b[38;5;124m'\u001b[39m]\n\u001b[0;32m    237\u001b[0m   )\n\u001b[0;32m    238\u001b[0m client_info \u001b[38;5;241m=\u001b[39m {k: fetched_info[k] \u001b[38;5;28;01mfor\u001b[39;00m k \u001b[38;5;129;01min\u001b[39;00m [\u001b[38;5;124m'\u001b[39m\u001b[38;5;124mclient_id\u001b[39m\u001b[38;5;124m'\u001b[39m, \u001b[38;5;124m'\u001b[39m\u001b[38;5;124mclient_secret\u001b[39m\u001b[38;5;124m'\u001b[39m]}\n\u001b[0;32m    239\u001b[0m scopes \u001b[38;5;241m=\u001b[39m fetched_info\u001b[38;5;241m.\u001b[39mget(\u001b[38;5;124m'\u001b[39m\u001b[38;5;124mscopes\u001b[39m\u001b[38;5;124m'\u001b[39m) \u001b[38;5;129;01mor\u001b[39;00m scopes\n",
            "\u001b[1;31mEEException\u001b[0m: Cannot authenticate: Invalid request."
          ]
        }
      ],
      "source": [
        "from ASTER_preprocessing import preprocessing"
      ]
    },
    {
      "cell_type": "code",
      "execution_count": 7,
      "metadata": {
        "colab": {
          "base_uri": "https://localhost:8080/",
          "height": 471
        },
        "id": "tfq-PWE1vHHz",
        "outputId": "37415f57-ac91-4c11-9c91-e99c86abdd82"
      },
      "outputs": [],
      "source": [
        "import ee"
      ]
    },
    {
      "cell_type": "code",
      "execution_count": null,
      "metadata": {},
      "outputs": [],
      "source": [
        "%pip install geemap"
      ]
    },
    {
      "cell_type": "code",
      "execution_count": 14,
      "metadata": {
        "id": "aZznxmEdvLD9"
      },
      "outputs": [],
      "source": [
        "import geemap"
      ]
    },
    {
      "cell_type": "markdown",
      "metadata": {
        "id": "TnGtUSOcqwgN"
      },
      "source": [
        "## Step 4: Google Earth Engine Authentication"
      ]
    },
    {
      "cell_type": "code",
      "execution_count": 10,
      "metadata": {
        "colab": {
          "base_uri": "https://localhost:8080/",
          "height": 197
        },
        "id": "CXyox9VWq1YD",
        "outputId": "da9e2e1b-3438-44ac-a8c3-652e0dd17c75"
      },
      "outputs": [],
      "source": [
        "ee.Authenticate()\n",
        "ee.Initialize(project=\"\")"
      ]
    },
    {
      "cell_type": "markdown",
      "metadata": {
        "id": "tQWLimPAq-NW"
      },
      "source": [
        "## Step 5: Preprocess ASTER Imagery Using a Drawn Polygon"
      ]
    },
    {
      "cell_type": "code",
      "execution_count": null,
      "metadata": {
        "colab": {
          "base_uri": "https://localhost:8080/",
          "height": 250
        },
        "id": "gBSYZKBUrD-k",
        "outputId": "e8762f09-59c6-4649-91b3-4abcf4862edc"
      },
      "outputs": [],
      "source": [
        "# Create an interactive map\n",
        "Map = geemap.Map()\n",
        "\n",
        "# Add drawing tools to the map\n",
        "Map.addDrawingTools()\n",
        "\n",
        "# Display the map\n",
        "Map"
      ]
    },
    {
      "cell_type": "code",
      "execution_count": null,
      "metadata": {
        "id": "VSSGvI48s8TG"
      },
      "outputs": [],
      "source": [
        "# Get the last drawn feature\n",
        "geometry = Map.draw_last_feature\n",
        "\n",
        "# Check if a geometry was drawn and it's a Polygon\n",
        "if geometry is not None and geometry.geometry().type().getInfo() == 'Polygon':\n",
        "    # Run the preprocessing\n",
        "    result = preprocessing.aster_preprocessing(geometry.geometry())\n",
        "    # `result` is a dictionary containing the preprocessed image and metadata\n",
        "else:\n",
        "    print(\"Please draw a polygon on the map.\")"
      ]
    }
  ],
  "metadata": {
    "colab": {
      "provenance": []
    },
    "kernelspec": {
      "display_name": "Python 3",
      "name": "python3"
    },
    "language_info": {
      "codemirror_mode": {
        "name": "ipython",
        "version": 3
      },
      "file_extension": ".py",
      "mimetype": "text/x-python",
      "name": "python",
      "nbconvert_exporter": "python",
      "pygments_lexer": "ipython3",
      "version": "3.10.13"
    }
  },
  "nbformat": 4,
  "nbformat_minor": 0
}
