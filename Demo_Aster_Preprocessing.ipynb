{
  "cells": [
    {
      "cell_type": "markdown",
      "metadata": {},
      "source": [
        "This notebook is currently in progress"
      ]
    },
    {
      "cell_type": "markdown",
      "metadata": {
        "id": "mnJ0vsWTqMYV"
      },
      "source": [
        "# GEE Aster Preprocessing"
      ]
    },
    {
      "cell_type": "markdown",
      "metadata": {},
      "source": [
        "## Step 1: Create a google earth engine account"
      ]
    },
    {
      "cell_type": "markdown",
      "metadata": {},
      "source": [
        "Follow this [link](https://code.earthengine.google.com/register) to create a GEE account"
      ]
    },
    {
      "cell_type": "markdown",
      "metadata": {
        "id": "H5KlcAUeqUll"
      },
      "source": [
        "## Step 2: Installation\n"
      ]
    },
    {
      "cell_type": "code",
      "execution_count": null,
      "metadata": {
        "colab": {
          "base_uri": "https://localhost:8080/"
        },
        "id": "0fV1dwdPpQVv",
        "outputId": "806a7050-31e3-49a4-9d54-2f4b1ec24aa5"
      },
      "outputs": [],
      "source": [
        "%pip install git+https://github.com/Mining-for-the-Future/ASTER_preprocessing.git@function_disaggregation"
      ]
    },
    {
      "cell_type": "markdown",
      "metadata": {
        "id": "BghUwRKZqgwN"
      },
      "source": [
        "## Step 3: Importing Libraries"
      ]
    },
    {
      "cell_type": "code",
      "execution_count": null,
      "metadata": {},
      "outputs": [],
      "source": [
        "%pip install geemap"
      ]
    },
    {
      "cell_type": "markdown",
      "metadata": {},
      "source": [
        "importing these modules should trigger the google earth engine authentication process.\n",
        "\n",
        "Note: in VS Code, the input field for the google earth engine token is at the top of the window, not underneath the cell."
      ]
    },
    {
      "cell_type": "code",
      "execution_count": null,
      "metadata": {},
      "outputs": [],
      "source": [
        "from ASTER_preprocessing.preprocessing import aster_collection_preprocessing, aster_image_preprocessing\n",
        "from ASTER_preprocessing.vis_params import vis_params, vis_params_image"
      ]
    },
    {
      "cell_type": "code",
      "execution_count": null,
      "metadata": {
        "id": "aZznxmEdvLD9"
      },
      "outputs": [],
      "source": [
        "import geemap"
      ]
    },
    {
      "cell_type": "markdown",
      "metadata": {
        "id": "tQWLimPAq-NW"
      },
      "source": [
        "## Step 4: Preprocess ASTER image collection using a drawn polygon"
      ]
    },
    {
      "cell_type": "code",
      "execution_count": null,
      "metadata": {
        "colab": {
          "base_uri": "https://localhost:8080/",
          "height": 250
        },
        "id": "gBSYZKBUrD-k",
        "outputId": "e8762f09-59c6-4649-91b3-4abcf4862edc"
      },
      "outputs": [],
      "source": [
        "# Create an interactive map\n",
        "Map = geemap.Map()\n",
        "Map"
      ]
    },
    {
      "cell_type": "code",
      "execution_count": null,
      "metadata": {
        "id": "VSSGvI48s8TG"
      },
      "outputs": [],
      "source": [
        "# Get the last drawn feature\n",
        "geometry = Map.user_roi"
      ]
    },
    {
      "cell_type": "code",
      "execution_count": null,
      "metadata": {},
      "outputs": [],
      "source": [
        "img_dict = aster_collection_preprocessing(geometry, bands = ['B04', 'B3N', 'B02'], masks = ['cloud'])"
      ]
    },
    {
      "cell_type": "code",
      "execution_count": null,
      "metadata": {},
      "outputs": [],
      "source": [
        "img_dict['imagery'].size().getInfo()"
      ]
    },
    {
      "cell_type": "markdown",
      "metadata": {},
      "source": [
        "## Step 4A: preprocess aster image from drawn point"
      ]
    },
    {
      "cell_type": "code",
      "execution_count": null,
      "metadata": {},
      "outputs": [],
      "source": [
        "Map = geemap.Map()\n",
        "Map"
      ]
    },
    {
      "cell_type": "code",
      "execution_count": null,
      "metadata": {},
      "outputs": [],
      "source": [
        "geometry = Map.user_roi"
      ]
    },
    {
      "cell_type": "markdown",
      "metadata": {},
      "source": [
        "### Examine the dates of images intersecting this point to select one"
      ]
    },
    {
      "cell_type": "code",
      "execution_count": null,
      "metadata": {},
      "outputs": [],
      "source": [
        "from ASTER_preprocessing.preprocessing import ee_i"
      ]
    },
    {
      "cell_type": "code",
      "execution_count": null,
      "metadata": {},
      "outputs": [],
      "source": [
        "from datetime import datetime"
      ]
    },
    {
      "cell_type": "code",
      "execution_count": null,
      "metadata": {},
      "outputs": [],
      "source": [
        "collection = ee_i.ImageCollection('ASTER/AST_L1T_003').filterBounds(geometry)"
      ]
    },
    {
      "cell_type": "code",
      "execution_count": null,
      "metadata": {},
      "outputs": [],
      "source": [
        "image_list = collection.toList(collection.size())"
      ]
    },
    {
      "cell_type": "code",
      "execution_count": null,
      "metadata": {},
      "outputs": [],
      "source": [
        "dates = []\n",
        "for i in range(image_list.length().getInfo()):\n",
        "    image = ee_i.Image(image_list.get(i))\n",
        "    date = datetime.utcfromtimestamp(image.get('system:time_start').getInfo()/1000).strftime('%Y-%m-%d')\n",
        "    dates.append(date)"
      ]
    },
    {
      "cell_type": "code",
      "execution_count": null,
      "metadata": {},
      "outputs": [],
      "source": [
        "dates"
      ]
    },
    {
      "cell_type": "code",
      "execution_count": null,
      "metadata": {},
      "outputs": [],
      "source": [
        "collection.filterDate('2005-03-26', '2005-03-27').size().getInfo()"
      ]
    },
    {
      "cell_type": "code",
      "execution_count": null,
      "metadata": {},
      "outputs": [],
      "source": [
        "image = collection.filterDate('2005-03-26', '2005-03-27').first()"
      ]
    },
    {
      "cell_type": "code",
      "execution_count": null,
      "metadata": {},
      "outputs": [],
      "source": [
        "def draw_map(img):\n",
        "    map = geemap.Map()\n",
        "    map.centerObject(img)\n",
        "    map.addLayer(img)\n",
        "    return map"
      ]
    },
    {
      "cell_type": "code",
      "execution_count": null,
      "metadata": {},
      "outputs": [],
      "source": [
        "draw_map(image)"
      ]
    },
    {
      "cell_type": "code",
      "execution_count": null,
      "metadata": {},
      "outputs": [],
      "source": [
        "image.bandNames().getInfo()"
      ]
    },
    {
      "cell_type": "code",
      "execution_count": null,
      "metadata": {},
      "outputs": [],
      "source": [
        "image.get('CLOUDCOVER').getInfo()"
      ]
    },
    {
      "cell_type": "code",
      "execution_count": null,
      "metadata": {},
      "outputs": [],
      "source": [
        "from ASTER_preprocessing.data_conversion import aster_dn2toa"
      ]
    },
    {
      "cell_type": "code",
      "execution_count": null,
      "metadata": {},
      "outputs": [],
      "source": [
        "image_toa = aster_dn2toa(image, ['B3N', 'B04', 'B05'])\n",
        "map = geemap.Map()\n",
        "map.center_object(image_toa)\n",
        "map.addLayer(image_toa, vis_params = {'bands': ['B3N', 'B04', 'B05'], 'min': [0, 0, 0], 'max': [1, 1, 1]})\n",
        "map"
      ]
    },
    {
      "cell_type": "code",
      "execution_count": null,
      "metadata": {},
      "outputs": [],
      "source": [
        "image_proc = aster_image_preprocessing(image, ['B3N', 'B02', 'B01'], masks = ['cloud'])\n",
        "vis_params = vis_params_image(image_proc, ['B3N', 'B02', 'B01'])\n",
        "\n",
        "map = geemap.Map()\n",
        "map.center_object(image_proc)\n",
        "map.addLayer(image_proc, vis_params = vis_params, name = 'processed_image')\n",
        "map"
      ]
    },
    {
      "cell_type": "code",
      "execution_count": null,
      "metadata": {},
      "outputs": [],
      "source": [
        "image = aster_image_preprocessing(image, bands = ['B3N', 'B04', 'B05'], masks = [])"
      ]
    },
    {
      "cell_type": "code",
      "execution_count": null,
      "metadata": {},
      "outputs": [],
      "source": [
        "image.bandTypes().getInfo()"
      ]
    },
    {
      "cell_type": "code",
      "execution_count": null,
      "metadata": {},
      "outputs": [],
      "source": [
        "vis_params_image(image, ['B3N', 'B04', 'B05'])"
      ]
    },
    {
      "cell_type": "code",
      "execution_count": null,
      "metadata": {},
      "outputs": [],
      "source": [
        "def vis_params_image(image, bands):\n",
        "    geometry = image.geometry()\n",
        "    projection = image.select(bands[0]).projection().getInfo()\n",
        "    \n",
        "    percentiles = image.select(bands).reduceRegion(\n",
        "        reducer = ee_i.Reducer.percentile([5, 95]),\n",
        "        geometry = geometry,\n",
        "        crs = projection['crs'],\n",
        "        crsTransform = projection['transform'],\n",
        "        bestEffort = True).getInfo()\n",
        "\n",
        "    b_p5 = [band + '_p5' for band in bands]\n",
        "    b_p95 = [band + '_p95' for band in bands]\n",
        "    mins = [percentiles[min] for min in b_p5]\n",
        "    maxs = [percentiles[max] for max in b_p95]\n",
        "    vis_params = {'min': mins, 'max': maxs, 'bands': bands}\n",
        "    return vis_params"
      ]
    },
    {
      "cell_type": "code",
      "execution_count": null,
      "metadata": {},
      "outputs": [],
      "source": [
        "image.geometry().getInfo()"
      ]
    },
    {
      "cell_type": "code",
      "execution_count": null,
      "metadata": {},
      "outputs": [],
      "source": [
        "map = geemap.Map()\n",
        "map.centerObject(image)\n",
        "map.addLayer(image)\n",
        "map"
      ]
    },
    {
      "cell_type": "code",
      "execution_count": null,
      "metadata": {},
      "outputs": [],
      "source": [
        "image.select('B01').projection().getInfo()"
      ]
    },
    {
      "cell_type": "markdown",
      "metadata": {},
      "source": [
        "## Step 5: Visualize the image collection as a time series"
      ]
    },
    {
      "cell_type": "code",
      "execution_count": null,
      "metadata": {},
      "outputs": [],
      "source": [
        "collection = img_dict['imagery']\n",
        "first_image = collection.first()\n",
        "vis_params = vis_params_image(first_image, bands = ['B04', 'B3N', 'B02'])\n",
        "\n",
        "map2 = geemap.Map()\n",
        "map2.centerObject(first_image)\n",
        "# map2.addLayer(first_image, vis_params)\n",
        "map2.add_time_slider(collection, vis_params = vis_params, time_interval = 1)\n",
        "map2"
      ]
    }
  ],
  "metadata": {
    "colab": {
      "provenance": []
    },
    "kernelspec": {
      "display_name": "Python 3",
      "name": "python3"
    },
    "language_info": {
      "codemirror_mode": {
        "name": "ipython",
        "version": 3
      },
      "file_extension": ".py",
      "mimetype": "text/x-python",
      "name": "python",
      "nbconvert_exporter": "python",
      "pygments_lexer": "ipython3",
      "version": "3.10.13"
    }
  },
  "nbformat": 4,
  "nbformat_minor": 0
}
