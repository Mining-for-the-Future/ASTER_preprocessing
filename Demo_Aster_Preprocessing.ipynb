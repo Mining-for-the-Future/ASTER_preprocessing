{
  "cells": [
    {
      "cell_type": "markdown",
      "metadata": {},
      "source": [
        "This notebook is currently in progress"
      ]
    },
    {
      "cell_type": "markdown",
      "metadata": {
        "id": "mnJ0vsWTqMYV"
      },
      "source": [
        "# GEE Aster Preprocessing"
      ]
    },
    {
      "cell_type": "markdown",
      "metadata": {},
      "source": [
        "## Step 1: Create a google earth engine account"
      ]
    },
    {
      "cell_type": "markdown",
      "metadata": {},
      "source": [
        "Follow this [link](https://code.earthengine.google.com/register) to create a GEE account"
      ]
    },
    {
      "cell_type": "markdown",
      "metadata": {
        "id": "H5KlcAUeqUll"
      },
      "source": [
        "## Step 2: Installation\n"
      ]
    },
    {
      "cell_type": "code",
      "execution_count": null,
      "metadata": {
        "colab": {
          "base_uri": "https://localhost:8080/"
        },
        "id": "0fV1dwdPpQVv",
        "outputId": "806a7050-31e3-49a4-9d54-2f4b1ec24aa5"
      },
      "outputs": [],
      "source": [
        "%pip install git+https://github.com/Mining-for-the-Future/ASTER_preprocessing.git@function_disaggregation"
      ]
    },
    {
      "cell_type": "markdown",
      "metadata": {
        "id": "BghUwRKZqgwN"
      },
      "source": [
        "## Step 3: Importing Libraries"
      ]
    },
    {
      "cell_type": "code",
      "execution_count": null,
      "metadata": {},
      "outputs": [],
      "source": [
        "%pip install geemap"
      ]
    },
    {
      "cell_type": "markdown",
      "metadata": {},
      "source": [
        "importing these modules should trigger the google earth engine authentication process.\n",
        "\n",
        "Note: in VS Code, the input field for the google earth engine token is at the top of the window, not underneath the cell."
      ]
    },
    {
      "cell_type": "code",
      "execution_count": null,
      "metadata": {},
      "outputs": [],
      "source": [
        "from ASTER_preprocessing.preprocessing import aster_collection_preprocessing, aster_image_preprocessing\n",
        "from ASTER_preprocessing.vis_params import vis_params_image"
      ]
    },
    {
      "cell_type": "code",
      "execution_count": null,
      "metadata": {
        "id": "aZznxmEdvLD9"
      },
      "outputs": [],
      "source": [
        "import geemap"
      ]
    },
    {
      "cell_type": "markdown",
      "metadata": {
        "id": "tQWLimPAq-NW"
      },
      "source": [
        "## Step 4: Preprocess ASTER image collection using a drawn polygon"
      ]
    },
    {
      "cell_type": "code",
      "execution_count": null,
      "metadata": {
        "colab": {
          "base_uri": "https://localhost:8080/",
          "height": 250
        },
        "id": "gBSYZKBUrD-k",
        "outputId": "e8762f09-59c6-4649-91b3-4abcf4862edc"
      },
      "outputs": [],
      "source": [
        "# Create an interactive\n",
        "Map = geemap.Map()\n",
        "Map"
      ]
    },
    {
      "cell_type": "markdown",
      "metadata": {},
      "source": [
        "Draw a polygon on the map"
      ]
    },
    {
      "cell_type": "code",
      "execution_count": null,
      "metadata": {
        "id": "VSSGvI48s8TG"
      },
      "outputs": [],
      "source": [
        "# Get the last drawn feature\n",
        "geometry = Map.user_roi"
      ]
    },
    {
      "cell_type": "code",
      "execution_count": null,
      "metadata": {},
      "outputs": [],
      "source": [
        "collection = aster_collection_preprocessing(geometry)"
      ]
    },
    {
      "cell_type": "markdown",
      "metadata": {},
      "source": [
        "## Step 5: Visualize the image collection as a time series"
      ]
    },
    {
      "cell_type": "code",
      "execution_count": null,
      "metadata": {},
      "outputs": [],
      "source": [
        "first_image = collection.first()\n",
        "vis_params = vis_params_image(first_image, bands = ['B04', 'B3N', 'B02'])\n",
        "\n",
        "map2 = geemap.Map()\n",
        "map2.centerObject(first_image)\n",
        "map2.add_time_slider(collection, vis_params = vis_params, time_interval = 1)\n",
        "map2"
      ]
    }
  ],
  "metadata": {
    "colab": {
      "provenance": []
    },
    "kernelspec": {
      "display_name": "Python 3",
      "name": "python3"
    },
    "language_info": {
      "codemirror_mode": {
        "name": "ipython",
        "version": 3
      },
      "file_extension": ".py",
      "mimetype": "text/x-python",
      "name": "python",
      "nbconvert_exporter": "python",
      "pygments_lexer": "ipython3",
      "version": "undefined.undefined.undefined"
    }
  },
  "nbformat": 4,
  "nbformat_minor": 0
}
