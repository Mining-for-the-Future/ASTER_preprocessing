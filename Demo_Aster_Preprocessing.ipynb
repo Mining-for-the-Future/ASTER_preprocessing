{
  "cells": [
    {
      "cell_type": "markdown",
      "metadata": {},
      "source": [
        "This notebook is currently in progress"
      ]
    },
    {
      "cell_type": "markdown",
      "metadata": {
        "id": "mnJ0vsWTqMYV"
      },
      "source": [
        "# GEE Aster Preprocessing"
      ]
    },
    {
      "cell_type": "markdown",
      "metadata": {},
      "source": [
        "## Step 1: Create a google earth engine account"
      ]
    },
    {
      "cell_type": "markdown",
      "metadata": {},
      "source": [
        "Follow this [link](https://code.earthengine.google.com/register) to create a GEE account"
      ]
    },
    {
      "cell_type": "markdown",
      "metadata": {
        "id": "H5KlcAUeqUll"
      },
      "source": [
        "## Step 2: Installation\n"
      ]
    },
    {
      "cell_type": "code",
      "execution_count": 1,
      "metadata": {
        "colab": {
          "base_uri": "https://localhost:8080/"
        },
        "id": "0fV1dwdPpQVv",
        "outputId": "806a7050-31e3-49a4-9d54-2f4b1ec24aa5"
      },
      "outputs": [
        {
          "name": "stdout",
          "output_type": "stream",
          "text": [
            "Collecting git+https://github.com/Mining-for-the-Future/ASTER_preprocessing.git@crs_transformNote: you may need to restart the kernel to use updated packages.\n",
            "\n",
            "  Cloning https://github.com/Mining-for-the-Future/ASTER_preprocessing.git (to revision crs_transform) to c:\\users\\eweav\\appdata\\local\\temp\\pip-req-build-nr0pf78_\n",
            "  Resolved https://github.com/Mining-for-the-Future/ASTER_preprocessing.git to commit c24aa355f66c4b4150a9b4a3f5bac66e27dcd010\n",
            "  Preparing metadata (setup.py): started\n",
            "  Preparing metadata (setup.py): finished with status 'done'\n",
            "Requirement already satisfied: earthengine-api in c:\\users\\eweav\\anaconda3\\envs\\blank_test_aster_preprocessing\\lib\\site-packages (from ASTER-Preprocessing==0.1.0) (0.1.386)\n",
            "Requirement already satisfied: utm in c:\\users\\eweav\\anaconda3\\envs\\blank_test_aster_preprocessing\\lib\\site-packages (from ASTER-Preprocessing==0.1.0) (0.7.0)\n",
            "Requirement already satisfied: google-cloud-storage in c:\\users\\eweav\\anaconda3\\envs\\blank_test_aster_preprocessing\\lib\\site-packages (from earthengine-api->ASTER-Preprocessing==0.1.0) (2.14.0)\n",
            "Requirement already satisfied: google-api-python-client>=1.12.1 in c:\\users\\eweav\\anaconda3\\envs\\blank_test_aster_preprocessing\\lib\\site-packages (from earthengine-api->ASTER-Preprocessing==0.1.0) (2.116.0)\n",
            "Requirement already satisfied: google-auth>=1.4.1 in c:\\users\\eweav\\anaconda3\\envs\\blank_test_aster_preprocessing\\lib\\site-packages (from earthengine-api->ASTER-Preprocessing==0.1.0) (2.27.0)\n",
            "Requirement already satisfied: google-auth-httplib2>=0.0.3 in c:\\users\\eweav\\anaconda3\\envs\\blank_test_aster_preprocessing\\lib\\site-packages (from earthengine-api->ASTER-Preprocessing==0.1.0) (0.2.0)\n",
            "Requirement already satisfied: httplib2<1dev,>=0.9.2 in c:\\users\\eweav\\anaconda3\\envs\\blank_test_aster_preprocessing\\lib\\site-packages (from earthengine-api->ASTER-Preprocessing==0.1.0) (0.22.0)\n",
            "Requirement already satisfied: requests in c:\\users\\eweav\\anaconda3\\envs\\blank_test_aster_preprocessing\\lib\\site-packages (from earthengine-api->ASTER-Preprocessing==0.1.0) (2.31.0)\n",
            "Requirement already satisfied: google-api-core!=2.0.*,!=2.1.*,!=2.2.*,!=2.3.0,<3.0.0.dev0,>=1.31.5 in c:\\users\\eweav\\anaconda3\\envs\\blank_test_aster_preprocessing\\lib\\site-packages (from google-api-python-client>=1.12.1->earthengine-api->ASTER-Preprocessing==0.1.0) (2.16.1)\n",
            "Requirement already satisfied: uritemplate<5,>=3.0.1 in c:\\users\\eweav\\anaconda3\\envs\\blank_test_aster_preprocessing\\lib\\site-packages (from google-api-python-client>=1.12.1->earthengine-api->ASTER-Preprocessing==0.1.0) (4.1.1)\n",
            "Requirement already satisfied: cachetools<6.0,>=2.0.0 in c:\\users\\eweav\\anaconda3\\envs\\blank_test_aster_preprocessing\\lib\\site-packages (from google-auth>=1.4.1->earthengine-api->ASTER-Preprocessing==0.1.0) (5.3.2)\n",
            "Requirement already satisfied: pyasn1-modules>=0.2.1 in c:\\users\\eweav\\anaconda3\\envs\\blank_test_aster_preprocessing\\lib\\site-packages (from google-auth>=1.4.1->earthengine-api->ASTER-Preprocessing==0.1.0) (0.3.0)\n",
            "Requirement already satisfied: rsa<5,>=3.1.4 in c:\\users\\eweav\\anaconda3\\envs\\blank_test_aster_preprocessing\\lib\\site-packages (from google-auth>=1.4.1->earthengine-api->ASTER-Preprocessing==0.1.0) (4.9)\n",
            "Requirement already satisfied: pyparsing!=3.0.0,!=3.0.1,!=3.0.2,!=3.0.3,<4,>=2.4.2 in c:\\users\\eweav\\anaconda3\\envs\\blank_test_aster_preprocessing\\lib\\site-packages (from httplib2<1dev,>=0.9.2->earthengine-api->ASTER-Preprocessing==0.1.0) (3.1.1)\n",
            "Requirement already satisfied: google-cloud-core<3.0dev,>=2.3.0 in c:\\users\\eweav\\anaconda3\\envs\\blank_test_aster_preprocessing\\lib\\site-packages (from google-cloud-storage->earthengine-api->ASTER-Preprocessing==0.1.0) (2.4.1)\n",
            "Requirement already satisfied: google-resumable-media>=2.6.0 in c:\\users\\eweav\\anaconda3\\envs\\blank_test_aster_preprocessing\\lib\\site-packages (from google-cloud-storage->earthengine-api->ASTER-Preprocessing==0.1.0) (2.7.0)\n",
            "Requirement already satisfied: google-crc32c<2.0dev,>=1.0 in c:\\users\\eweav\\anaconda3\\envs\\blank_test_aster_preprocessing\\lib\\site-packages (from google-cloud-storage->earthengine-api->ASTER-Preprocessing==0.1.0) (1.5.0)\n",
            "Requirement already satisfied: charset-normalizer<4,>=2 in c:\\users\\eweav\\anaconda3\\envs\\blank_test_aster_preprocessing\\lib\\site-packages (from requests->earthengine-api->ASTER-Preprocessing==0.1.0) (3.3.2)\n",
            "Requirement already satisfied: idna<4,>=2.5 in c:\\users\\eweav\\anaconda3\\envs\\blank_test_aster_preprocessing\\lib\\site-packages (from requests->earthengine-api->ASTER-Preprocessing==0.1.0) (3.6)\n",
            "Requirement already satisfied: urllib3<3,>=1.21.1 in c:\\users\\eweav\\anaconda3\\envs\\blank_test_aster_preprocessing\\lib\\site-packages (from requests->earthengine-api->ASTER-Preprocessing==0.1.0) (2.2.0)\n",
            "Requirement already satisfied: certifi>=2017.4.17 in c:\\users\\eweav\\anaconda3\\envs\\blank_test_aster_preprocessing\\lib\\site-packages (from requests->earthengine-api->ASTER-Preprocessing==0.1.0) (2023.11.17)\n",
            "Requirement already satisfied: googleapis-common-protos<2.0.dev0,>=1.56.2 in c:\\users\\eweav\\anaconda3\\envs\\blank_test_aster_preprocessing\\lib\\site-packages (from google-api-core!=2.0.*,!=2.1.*,!=2.2.*,!=2.3.0,<3.0.0.dev0,>=1.31.5->google-api-python-client>=1.12.1->earthengine-api->ASTER-Preprocessing==0.1.0) (1.62.0)\n",
            "Requirement already satisfied: protobuf!=3.20.0,!=3.20.1,!=4.21.0,!=4.21.1,!=4.21.2,!=4.21.3,!=4.21.4,!=4.21.5,<5.0.0.dev0,>=3.19.5 in c:\\users\\eweav\\anaconda3\\envs\\blank_test_aster_preprocessing\\lib\\site-packages (from google-api-core!=2.0.*,!=2.1.*,!=2.2.*,!=2.3.0,<3.0.0.dev0,>=1.31.5->google-api-python-client>=1.12.1->earthengine-api->ASTER-Preprocessing==0.1.0) (4.25.2)\n",
            "Requirement already satisfied: pyasn1<0.6.0,>=0.4.6 in c:\\users\\eweav\\anaconda3\\envs\\blank_test_aster_preprocessing\\lib\\site-packages (from pyasn1-modules>=0.2.1->google-auth>=1.4.1->earthengine-api->ASTER-Preprocessing==0.1.0) (0.5.1)\n"
          ]
        },
        {
          "name": "stderr",
          "output_type": "stream",
          "text": [
            "  Running command git clone --filter=blob:none --quiet https://github.com/Mining-for-the-Future/ASTER_preprocessing.git 'C:\\Users\\eweav\\AppData\\Local\\Temp\\pip-req-build-nr0pf78_'\n",
            "  Running command git checkout -b crs_transform --track origin/crs_transform\n",
            "  branch 'crs_transform' set up to track 'origin/crs_transform'.\n",
            "  Switched to a new branch 'crs_transform'\n"
          ]
        }
      ],
      "source": [
        "%pip install git+https://github.com/Mining-for-the-Future/ASTER_preprocessing.git@crs_transform"
      ]
    },
    {
      "cell_type": "markdown",
      "metadata": {
        "id": "BghUwRKZqgwN"
      },
      "source": [
        "## Step 3: Importing Libraries"
      ]
    },
    {
      "cell_type": "code",
      "execution_count": null,
      "metadata": {},
      "outputs": [],
      "source": [
        "%pip install geemap"
      ]
    },
    {
      "cell_type": "markdown",
      "metadata": {},
      "source": [
        "importing these modules should trigger the google earth engine authentication process.\n",
        "\n",
        "Note: in VS Code, the input field for the google earth engine token is at the top of the window, not underneath the cell."
      ]
    },
    {
      "cell_type": "code",
      "execution_count": 2,
      "metadata": {},
      "outputs": [
        {
          "data": {
            "text/html": [
              "<p>To authorize access needed by Earth Engine, open the following\n",
              "        URL in a web browser and follow the instructions:</p>\n",
              "        <p><a href=https://code.earthengine.google.com/client-auth?scopes=https%3A//www.googleapis.com/auth/earthengine%20https%3A//www.googleapis.com/auth/cloud-platform%20https%3A//www.googleapis.com/auth/devstorage.full_control&request_id=hfBmzOoLzs2zs-rfF2USYMNlA4EzplVdU8zOCaFpPpg&tc=V-xQgswyf0EEUE64re8GAK5XHscLzxM85uQLdNOYZiE&cc=_wrTPM-Wk7p--tymPaxiLGeJp3iEzekhc_G0DWP-uNA>https://code.earthengine.google.com/client-auth?scopes=https%3A//www.googleapis.com/auth/earthengine%20https%3A//www.googleapis.com/auth/cloud-platform%20https%3A//www.googleapis.com/auth/devstorage.full_control&request_id=hfBmzOoLzs2zs-rfF2USYMNlA4EzplVdU8zOCaFpPpg&tc=V-xQgswyf0EEUE64re8GAK5XHscLzxM85uQLdNOYZiE&cc=_wrTPM-Wk7p--tymPaxiLGeJp3iEzekhc_G0DWP-uNA</a></p>\n",
              "        <p>The authorization workflow will generate a code, which you should paste in the box below.</p>\n",
              "        "
            ],
            "text/plain": [
              "<IPython.core.display.HTML object>"
            ]
          },
          "metadata": {},
          "output_type": "display_data"
        },
        {
          "name": "stdout",
          "output_type": "stream",
          "text": [
            "\n",
            "Successfully saved authorization token.\n"
          ]
        }
      ],
      "source": [
        "from ASTER_preprocessing.preprocessing import aster_collection_preprocessing, aster_image_preprocessing\n",
        "from ASTER_preprocessing.vis_params import vis_params_image"
      ]
    },
    {
      "cell_type": "code",
      "execution_count": 3,
      "metadata": {
        "id": "aZznxmEdvLD9"
      },
      "outputs": [],
      "source": [
        "import geemap"
      ]
    },
    {
      "cell_type": "markdown",
      "metadata": {
        "id": "tQWLimPAq-NW"
      },
      "source": [
        "## Step 4: Preprocess ASTER image collection using a drawn polygon"
      ]
    },
    {
      "cell_type": "code",
      "execution_count": 4,
      "metadata": {
        "colab": {
          "base_uri": "https://localhost:8080/",
          "height": 250
        },
        "id": "gBSYZKBUrD-k",
        "outputId": "e8762f09-59c6-4649-91b3-4abcf4862edc"
      },
      "outputs": [
        {
          "data": {
            "text/html": [
              "\n",
              "            <style>\n",
              "                .geemap-dark {\n",
              "                    --jp-widgets-color: white;\n",
              "                    --jp-widgets-label-color: white;\n",
              "                    --jp-ui-font-color1: white;\n",
              "                    --jp-layout-color2: #454545;\n",
              "                    background-color: #383838;\n",
              "                }\n",
              "                    \n",
              "                .geemap-dark .jupyter-button {\n",
              "                    --jp-layout-color3: #383838;\n",
              "                }\n",
              "                \n",
              "                .geemap-colab {\n",
              "                    background-color: var(--colab-primary-surface-color, white);\n",
              "                }\n",
              "                    \n",
              "                .geemap-colab .jupyter-button {\n",
              "                    --jp-layout-color3: var(--colab-primary-surface-color, white);\n",
              "                }\n",
              "            </style>\n",
              "            "
            ],
            "text/plain": [
              "<IPython.core.display.HTML object>"
            ]
          },
          "metadata": {},
          "output_type": "display_data"
        },
        {
          "data": {
            "application/vnd.jupyter.widget-view+json": {
              "model_id": "ebc2a419c5cd4373b73aad76753aaec1",
              "version_major": 2,
              "version_minor": 0
            },
            "text/plain": [
              "Map(center=[0, 0], controls=(WidgetControl(options=['position', 'transparent_bg'], widget=SearchDataGUI(childr…"
            ]
          },
          "metadata": {},
          "output_type": "display_data"
        }
      ],
      "source": [
        "# Create an interactive map\n",
        "Map = geemap.Map()\n",
        "Map"
      ]
    },
    {
      "cell_type": "code",
      "execution_count": 5,
      "metadata": {
        "id": "VSSGvI48s8TG"
      },
      "outputs": [
        {
          "data": {
            "text/html": [
              "\n",
              "            <style>\n",
              "                .geemap-dark {\n",
              "                    --jp-widgets-color: white;\n",
              "                    --jp-widgets-label-color: white;\n",
              "                    --jp-ui-font-color1: white;\n",
              "                    --jp-layout-color2: #454545;\n",
              "                    background-color: #383838;\n",
              "                }\n",
              "                    \n",
              "                .geemap-dark .jupyter-button {\n",
              "                    --jp-layout-color3: #383838;\n",
              "                }\n",
              "                \n",
              "                .geemap-colab {\n",
              "                    background-color: var(--colab-primary-surface-color, white);\n",
              "                }\n",
              "                    \n",
              "                .geemap-colab .jupyter-button {\n",
              "                    --jp-layout-color3: var(--colab-primary-surface-color, white);\n",
              "                }\n",
              "            </style>\n",
              "            "
            ],
            "text/plain": [
              "<IPython.core.display.HTML object>"
            ]
          },
          "metadata": {},
          "output_type": "display_data"
        }
      ],
      "source": [
        "# Get the last drawn feature\n",
        "geometry = Map.user_roi"
      ]
    },
    {
      "cell_type": "code",
      "execution_count": 7,
      "metadata": {},
      "outputs": [
        {
          "data": {
            "text/html": [
              "\n",
              "            <style>\n",
              "                .geemap-dark {\n",
              "                    --jp-widgets-color: white;\n",
              "                    --jp-widgets-label-color: white;\n",
              "                    --jp-ui-font-color1: white;\n",
              "                    --jp-layout-color2: #454545;\n",
              "                    background-color: #383838;\n",
              "                }\n",
              "                    \n",
              "                .geemap-dark .jupyter-button {\n",
              "                    --jp-layout-color3: #383838;\n",
              "                }\n",
              "                \n",
              "                .geemap-colab {\n",
              "                    background-color: var(--colab-primary-surface-color, white);\n",
              "                }\n",
              "                    \n",
              "                .geemap-colab .jupyter-button {\n",
              "                    --jp-layout-color3: var(--colab-primary-surface-color, white);\n",
              "                }\n",
              "            </style>\n",
              "            "
            ],
            "text/plain": [
              "<IPython.core.display.HTML object>"
            ]
          },
          "metadata": {},
          "output_type": "display_data"
        }
      ],
      "source": [
        "collection = aster_collection_preprocessing(geometry, bands = [], masks = [])"
      ]
    },
    {
      "cell_type": "markdown",
      "metadata": {},
      "source": [
        "## Step 4A: preprocess aster image from drawn point"
      ]
    },
    {
      "cell_type": "code",
      "execution_count": null,
      "metadata": {},
      "outputs": [],
      "source": [
        "Map = geemap.Map()\n",
        "Map"
      ]
    },
    {
      "cell_type": "code",
      "execution_count": null,
      "metadata": {},
      "outputs": [],
      "source": [
        "geometry = Map.user_roi"
      ]
    },
    {
      "cell_type": "markdown",
      "metadata": {},
      "source": [
        "### Examine the dates of images intersecting this point to select one"
      ]
    },
    {
      "cell_type": "code",
      "execution_count": null,
      "metadata": {},
      "outputs": [],
      "source": [
        "from ASTER_preprocessing.preprocessing import ee_i"
      ]
    },
    {
      "cell_type": "code",
      "execution_count": null,
      "metadata": {},
      "outputs": [],
      "source": [
        "from datetime import datetime"
      ]
    },
    {
      "cell_type": "code",
      "execution_count": null,
      "metadata": {},
      "outputs": [],
      "source": [
        "collection = ee_i.ImageCollection('ASTER/AST_L1T_003').filterBounds(geometry)"
      ]
    },
    {
      "cell_type": "code",
      "execution_count": null,
      "metadata": {},
      "outputs": [],
      "source": [
        "image_list = collection.toList(collection.size())"
      ]
    },
    {
      "cell_type": "code",
      "execution_count": null,
      "metadata": {},
      "outputs": [],
      "source": [
        "dates = []\n",
        "for i in range(image_list.length().getInfo()):\n",
        "    image = ee_i.Image(image_list.get(i))\n",
        "    date = datetime.utcfromtimestamp(image.get('system:time_start').getInfo()/1000).strftime('%Y%j.%H%M')\n",
        "    dates.append(date)"
      ]
    },
    {
      "cell_type": "code",
      "execution_count": null,
      "metadata": {},
      "outputs": [],
      "source": [
        "'%Y%j.%H%M'"
      ]
    },
    {
      "cell_type": "code",
      "execution_count": null,
      "metadata": {},
      "outputs": [],
      "source": [
        "dates"
      ]
    },
    {
      "cell_type": "code",
      "execution_count": null,
      "metadata": {},
      "outputs": [],
      "source": [
        "collection.filterDate('2005-03-26', '2005-03-27').size().getInfo()"
      ]
    },
    {
      "cell_type": "code",
      "execution_count": null,
      "metadata": {},
      "outputs": [],
      "source": [
        "image = collection.filterDate('2005-03-26', '2005-03-27').first()"
      ]
    },
    {
      "cell_type": "code",
      "execution_count": null,
      "metadata": {},
      "outputs": [],
      "source": [
        "def draw_map(img):\n",
        "    map = geemap.Map()\n",
        "    map.centerObject(img)\n",
        "    map.addLayer(img)\n",
        "    return map"
      ]
    },
    {
      "cell_type": "code",
      "execution_count": null,
      "metadata": {},
      "outputs": [],
      "source": [
        "draw_map(image)"
      ]
    },
    {
      "cell_type": "code",
      "execution_count": null,
      "metadata": {},
      "outputs": [],
      "source": [
        "image.bandNames().getInfo()"
      ]
    },
    {
      "cell_type": "code",
      "execution_count": null,
      "metadata": {},
      "outputs": [],
      "source": [
        "image.get('CLOUDCOVER').getInfo()"
      ]
    },
    {
      "cell_type": "code",
      "execution_count": null,
      "metadata": {},
      "outputs": [],
      "source": [
        "from ASTER_preprocessing.data_conversion import aster_dn2toa"
      ]
    },
    {
      "cell_type": "code",
      "execution_count": null,
      "metadata": {},
      "outputs": [],
      "source": [
        "image_toa = aster_dn2toa(image, ['B3N', 'B04', 'B05'])\n",
        "map = geemap.Map()\n",
        "map.center_object(image_toa)\n",
        "map.addLayer(image_toa, vis_params = {'bands': ['B3N', 'B04', 'B05'], 'min': [0, 0, 0], 'max': [1, 1, 1]})\n",
        "map"
      ]
    },
    {
      "cell_type": "code",
      "execution_count": null,
      "metadata": {},
      "outputs": [],
      "source": [
        "image_proc = aster_image_preprocessing(image, ['B3N', 'B02', 'B01'], masks = ['cloud'])\n",
        "vis_params = vis_params_image(image_proc, ['B3N', 'B02', 'B01'])\n",
        "\n",
        "map = geemap.Map()\n",
        "map.center_object(image_proc)\n",
        "map.addLayer(image_proc, vis_params = vis_params, name = 'processed_image')\n",
        "map"
      ]
    },
    {
      "cell_type": "code",
      "execution_count": null,
      "metadata": {},
      "outputs": [],
      "source": [
        "image = aster_image_preprocessing(image, bands = ['B3N', 'B04', 'B05'], masks = [])"
      ]
    },
    {
      "cell_type": "code",
      "execution_count": null,
      "metadata": {},
      "outputs": [],
      "source": [
        "image.bandTypes().getInfo()"
      ]
    },
    {
      "cell_type": "code",
      "execution_count": null,
      "metadata": {},
      "outputs": [],
      "source": [
        "vis_params_image(image, ['B3N', 'B04', 'B05'])"
      ]
    },
    {
      "cell_type": "code",
      "execution_count": null,
      "metadata": {},
      "outputs": [],
      "source": [
        "def vis_params_image(image, bands):\n",
        "    geometry = image.geometry()\n",
        "    projection = image.select(bands[0]).projection().getInfo()\n",
        "    \n",
        "    percentiles = image.select(bands).reduceRegion(\n",
        "        reducer = ee_i.Reducer.percentile([5, 95]),\n",
        "        geometry = geometry,\n",
        "        crs = projection['crs'],\n",
        "        crsTransform = projection['transform'],\n",
        "        bestEffort = True).getInfo()\n",
        "\n",
        "    b_p5 = [band + '_p5' for band in bands]\n",
        "    b_p95 = [band + '_p95' for band in bands]\n",
        "    mins = [percentiles[min] for min in b_p5]\n",
        "    maxs = [percentiles[max] for max in b_p95]\n",
        "    vis_params = {'min': mins, 'max': maxs, 'bands': bands}\n",
        "    return vis_params"
      ]
    },
    {
      "cell_type": "code",
      "execution_count": null,
      "metadata": {},
      "outputs": [],
      "source": [
        "image.geometry().getInfo()"
      ]
    },
    {
      "cell_type": "code",
      "execution_count": null,
      "metadata": {},
      "outputs": [],
      "source": [
        "map = geemap.Map()\n",
        "map.centerObject(image)\n",
        "map.addLayer(image)\n",
        "map"
      ]
    },
    {
      "cell_type": "code",
      "execution_count": null,
      "metadata": {},
      "outputs": [],
      "source": [
        "image.select('B01').projection().getInfo()"
      ]
    },
    {
      "cell_type": "markdown",
      "metadata": {},
      "source": [
        "## Step 5: Visualize the image collection as a time series"
      ]
    },
    {
      "cell_type": "code",
      "execution_count": 11,
      "metadata": {},
      "outputs": [
        {
          "data": {
            "text/html": [
              "\n",
              "            <style>\n",
              "                .geemap-dark {\n",
              "                    --jp-widgets-color: white;\n",
              "                    --jp-widgets-label-color: white;\n",
              "                    --jp-ui-font-color1: white;\n",
              "                    --jp-layout-color2: #454545;\n",
              "                    background-color: #383838;\n",
              "                }\n",
              "                    \n",
              "                .geemap-dark .jupyter-button {\n",
              "                    --jp-layout-color3: #383838;\n",
              "                }\n",
              "                \n",
              "                .geemap-colab {\n",
              "                    background-color: var(--colab-primary-surface-color, white);\n",
              "                }\n",
              "                    \n",
              "                .geemap-colab .jupyter-button {\n",
              "                    --jp-layout-color3: var(--colab-primary-surface-color, white);\n",
              "                }\n",
              "            </style>\n",
              "            "
            ],
            "text/plain": [
              "<IPython.core.display.HTML object>"
            ]
          },
          "metadata": {},
          "output_type": "display_data"
        },
        {
          "data": {
            "application/vnd.jupyter.widget-view+json": {
              "model_id": "b25d8ca93f9f4b6a99f7a8e96d9a2bef",
              "version_major": 2,
              "version_minor": 0
            },
            "text/plain": [
              "Map(center=[0, 0], controls=(WidgetControl(options=['position', 'transparent_bg'], widget=SearchDataGUI(childr…"
            ]
          },
          "metadata": {},
          "output_type": "display_data"
        }
      ],
      "source": [
        "first_image = collection.first()\n",
        "vis_params = vis_params_image(first_image, bands = ['B3N', 'B04', 'B05'])\n",
        "\n",
        "map2 = geemap.Map()\n",
        "map2.centerObject(first_image)\n",
        "map2.addLayer(first_image, vis_params)\n",
        "# map2.add_time_slider(collection, vis_params = vis_params, time_interval = 1)\n",
        "map2"
      ]
    }
  ],
  "metadata": {
    "colab": {
      "provenance": []
    },
    "kernelspec": {
      "display_name": "Python 3",
      "name": "python3"
    },
    "language_info": {
      "codemirror_mode": {
        "name": "ipython",
        "version": 3
      },
      "file_extension": ".py",
      "mimetype": "text/x-python",
      "name": "python",
      "nbconvert_exporter": "python",
      "pygments_lexer": "ipython3",
      "version": "3.10.13"
    }
  },
  "nbformat": 4,
  "nbformat_minor": 0
}
