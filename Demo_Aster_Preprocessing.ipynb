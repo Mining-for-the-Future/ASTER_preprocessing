{
  "cells": [
    {
      "cell_type": "markdown",
      "metadata": {},
      "source": [
        "This notebook is currently in progress"
      ]
    },
    {
      "cell_type": "markdown",
      "metadata": {
        "id": "mnJ0vsWTqMYV"
      },
      "source": [
        "# GEE Aster Preprocessing"
      ]
    },
    {
      "cell_type": "markdown",
      "metadata": {},
      "source": [
        "## Step 1: Create a google cloud project"
      ]
    },
    {
      "cell_type": "markdown",
      "metadata": {},
      "source": [
        "Follow this link to create a google could project: https://cloud.google.com/resource-manager/docs/creating-managing-projects"
      ]
    },
    {
      "cell_type": "markdown",
      "metadata": {
        "id": "H5KlcAUeqUll"
      },
      "source": [
        "## Step 2: Installation\n"
      ]
    },
    {
      "cell_type": "code",
      "execution_count": 4,
      "metadata": {
        "colab": {
          "base_uri": "https://localhost:8080/"
        },
        "id": "0fV1dwdPpQVv",
        "outputId": "806a7050-31e3-49a4-9d54-2f4b1ec24aa5"
      },
      "outputs": [
        {
          "name": "stdout",
          "output_type": "stream",
          "text": [
            "Collecting git+https://github.com/Mining-for-the-Future/ASTER_preprocessing.git@Authentification_issue\n",
            "  Cloning https://github.com/Mining-for-the-Future/ASTER_preprocessing.git (to revision Authentification_issue) to c:\\users\\eweav\\appdata\\local\\temp\\pip-req-build-y88ebvvo\n",
            "  Resolved https://github.com/Mining-for-the-Future/ASTER_preprocessing.git to commit 17dfa729cc4db34d5a402ccd5d6689dbc65a77f6\n",
            "  Preparing metadata (setup.py): started\n",
            "  Preparing metadata (setup.py): finished with status 'done'\n",
            "Requirement already satisfied: earthengine-api in c:\\users\\eweav\\anaconda3\\envs\\blank_test_aster_preprocessing\\lib\\site-packages (from ASTER-Preprocessing==0.1.0) (0.1.386)\n",
            "Requirement already satisfied: google-cloud-storage in c:\\users\\eweav\\anaconda3\\envs\\blank_test_aster_preprocessing\\lib\\site-packages (from earthengine-api->ASTER-Preprocessing==0.1.0) (2.14.0)\n",
            "Requirement already satisfied: google-api-python-client>=1.12.1 in c:\\users\\eweav\\anaconda3\\envs\\blank_test_aster_preprocessing\\lib\\site-packages (from earthengine-api->ASTER-Preprocessing==0.1.0) (2.116.0)\n",
            "Requirement already satisfied: google-auth>=1.4.1 in c:\\users\\eweav\\anaconda3\\envs\\blank_test_aster_preprocessing\\lib\\site-packages (from earthengine-api->ASTER-Preprocessing==0.1.0) (2.27.0)\n",
            "Requirement already satisfied: google-auth-httplib2>=0.0.3 in c:\\users\\eweav\\anaconda3\\envs\\blank_test_aster_preprocessing\\lib\\site-packages (from earthengine-api->ASTER-Preprocessing==0.1.0) (0.2.0)\n",
            "Requirement already satisfied: httplib2<1dev,>=0.9.2 in c:\\users\\eweav\\anaconda3\\envs\\blank_test_aster_preprocessing\\lib\\site-packages (from earthengine-api->ASTER-Preprocessing==0.1.0) (0.22.0)\n",
            "Requirement already satisfied: requests in c:\\users\\eweav\\anaconda3\\envs\\blank_test_aster_preprocessing\\lib\\site-packages (from earthengine-api->ASTER-Preprocessing==0.1.0) (2.31.0)\n",
            "Requirement already satisfied: google-api-core!=2.0.*,!=2.1.*,!=2.2.*,!=2.3.0,<3.0.0.dev0,>=1.31.5 in c:\\users\\eweav\\anaconda3\\envs\\blank_test_aster_preprocessing\\lib\\site-packages (from google-api-python-client>=1.12.1->earthengine-api->ASTER-Preprocessing==0.1.0) (2.16.1)\n",
            "Requirement already satisfied: uritemplate<5,>=3.0.1 in c:\\users\\eweav\\anaconda3\\envs\\blank_test_aster_preprocessing\\lib\\site-packages (from google-api-python-client>=1.12.1->earthengine-api->ASTER-Preprocessing==0.1.0) (4.1.1)\n",
            "Requirement already satisfied: cachetools<6.0,>=2.0.0 in c:\\users\\eweav\\anaconda3\\envs\\blank_test_aster_preprocessing\\lib\\site-packages (from google-auth>=1.4.1->earthengine-api->ASTER-Preprocessing==0.1.0) (5.3.2)\n",
            "Requirement already satisfied: pyasn1-modules>=0.2.1 in c:\\users\\eweav\\anaconda3\\envs\\blank_test_aster_preprocessing\\lib\\site-packages (from google-auth>=1.4.1->earthengine-api->ASTER-Preprocessing==0.1.0) (0.3.0)\n",
            "Requirement already satisfied: rsa<5,>=3.1.4 in c:\\users\\eweav\\anaconda3\\envs\\blank_test_aster_preprocessing\\lib\\site-packages (from google-auth>=1.4.1->earthengine-api->ASTER-Preprocessing==0.1.0) (4.9)\n",
            "Requirement already satisfied: pyparsing!=3.0.0,!=3.0.1,!=3.0.2,!=3.0.3,<4,>=2.4.2 in c:\\users\\eweav\\anaconda3\\envs\\blank_test_aster_preprocessing\\lib\\site-packages (from httplib2<1dev,>=0.9.2->earthengine-api->ASTER-Preprocessing==0.1.0) (3.1.1)\n",
            "Requirement already satisfied: google-cloud-core<3.0dev,>=2.3.0 in c:\\users\\eweav\\anaconda3\\envs\\blank_test_aster_preprocessing\\lib\\site-packages (from google-cloud-storage->earthengine-api->ASTER-Preprocessing==0.1.0) (2.4.1)\n",
            "Requirement already satisfied: google-resumable-media>=2.6.0 in c:\\users\\eweav\\anaconda3\\envs\\blank_test_aster_preprocessing\\lib\\site-packages (from google-cloud-storage->earthengine-api->ASTER-Preprocessing==0.1.0) (2.7.0)\n",
            "Requirement already satisfied: google-crc32c<2.0dev,>=1.0 in c:\\users\\eweav\\anaconda3\\envs\\blank_test_aster_preprocessing\\lib\\site-packages (from google-cloud-storage->earthengine-api->ASTER-Preprocessing==0.1.0) (1.5.0)\n",
            "Requirement already satisfied: charset-normalizer<4,>=2 in c:\\users\\eweav\\anaconda3\\envs\\blank_test_aster_preprocessing\\lib\\site-packages (from requests->earthengine-api->ASTER-Preprocessing==0.1.0) (3.3.2)\n",
            "Requirement already satisfied: idna<4,>=2.5 in c:\\users\\eweav\\anaconda3\\envs\\blank_test_aster_preprocessing\\lib\\site-packages (from requests->earthengine-api->ASTER-Preprocessing==0.1.0) (3.6)\n",
            "Requirement already satisfied: urllib3<3,>=1.21.1 in c:\\users\\eweav\\anaconda3\\envs\\blank_test_aster_preprocessing\\lib\\site-packages (from requests->earthengine-api->ASTER-Preprocessing==0.1.0) (2.2.0)\n",
            "Requirement already satisfied: certifi>=2017.4.17 in c:\\users\\eweav\\anaconda3\\envs\\blank_test_aster_preprocessing\\lib\\site-packages (from requests->earthengine-api->ASTER-Preprocessing==0.1.0) (2023.11.17)\n",
            "Requirement already satisfied: googleapis-common-protos<2.0.dev0,>=1.56.2 in c:\\users\\eweav\\anaconda3\\envs\\blank_test_aster_preprocessing\\lib\\site-packages (from google-api-core!=2.0.*,!=2.1.*,!=2.2.*,!=2.3.0,<3.0.0.dev0,>=1.31.5->google-api-python-client>=1.12.1->earthengine-api->ASTER-Preprocessing==0.1.0) (1.62.0)\n",
            "Requirement already satisfied: protobuf!=3.20.0,!=3.20.1,!=4.21.0,!=4.21.1,!=4.21.2,!=4.21.3,!=4.21.4,!=4.21.5,<5.0.0.dev0,>=3.19.5 in c:\\users\\eweav\\anaconda3\\envs\\blank_test_aster_preprocessing\\lib\\site-packages (from google-api-core!=2.0.*,!=2.1.*,!=2.2.*,!=2.3.0,<3.0.0.dev0,>=1.31.5->google-api-python-client>=1.12.1->earthengine-api->ASTER-Preprocessing==0.1.0) (4.25.2)\n",
            "Requirement already satisfied: pyasn1<0.6.0,>=0.4.6 in c:\\users\\eweav\\anaconda3\\envs\\blank_test_aster_preprocessing\\lib\\site-packages (from pyasn1-modules>=0.2.1->google-auth>=1.4.1->earthengine-api->ASTER-Preprocessing==0.1.0) (0.5.1)\n",
            "Note: you may need to restart the kernel to use updated packages.\n"
          ]
        },
        {
          "name": "stderr",
          "output_type": "stream",
          "text": [
            "  Running command git clone --filter=blob:none --quiet https://github.com/Mining-for-the-Future/ASTER_preprocessing.git 'C:\\Users\\eweav\\AppData\\Local\\Temp\\pip-req-build-y88ebvvo'\n",
            "  Running command git checkout -b Authentification_issue --track origin/Authentification_issue\n",
            "  branch 'Authentification_issue' set up to track 'origin/Authentification_issue'.\n",
            "  Switched to a new branch 'Authentification_issue'\n"
          ]
        }
      ],
      "source": [
        "%pip install git+https://github.com/Mining-for-the-Future/ASTER_preprocessing.git@Authentification_issue"
      ]
    },
    {
      "cell_type": "markdown",
      "metadata": {
        "id": "BghUwRKZqgwN"
      },
      "source": [
        "## Step 3: Importing Libraries"
      ]
    },
    {
      "cell_type": "code",
      "execution_count": 2,
      "metadata": {
        "id": "8yC_bbTMLh4Y"
      },
      "outputs": [],
      "source": [
        "import ASTER_preprocessing"
      ]
    },
    {
      "cell_type": "code",
      "execution_count": 5,
      "metadata": {},
      "outputs": [
        {
          "data": {
            "text/html": [
              "<p>To authorize access needed by Earth Engine, open the following\n",
              "        URL in a web browser and follow the instructions:</p>\n",
              "        <p><a href=https://code.earthengine.google.com/client-auth?scopes=https%3A//www.googleapis.com/auth/earthengine%20https%3A//www.googleapis.com/auth/cloud-platform%20https%3A//www.googleapis.com/auth/devstorage.full_control&request_id=3aBgiYqwXoyhb8GTFAakS_pWCZZf_8Az77k1nmerwx8&tc=551cMVTUjj-Qt4qRoh4Z9wvzXnzaRuUnjeljcO-doTg&cc=DmrIETbg-Vcqqmm9rrOS4YvRlH-QvHbFO-o8z5ChQig>https://code.earthengine.google.com/client-auth?scopes=https%3A//www.googleapis.com/auth/earthengine%20https%3A//www.googleapis.com/auth/cloud-platform%20https%3A//www.googleapis.com/auth/devstorage.full_control&request_id=3aBgiYqwXoyhb8GTFAakS_pWCZZf_8Az77k1nmerwx8&tc=551cMVTUjj-Qt4qRoh4Z9wvzXnzaRuUnjeljcO-doTg&cc=DmrIETbg-Vcqqmm9rrOS4YvRlH-QvHbFO-o8z5ChQig</a></p>\n",
              "        <p>The authorization workflow will generate a code, which you should paste in the box below.</p>\n",
              "        "
            ],
            "text/plain": [
              "<IPython.core.display.HTML object>"
            ]
          },
          "metadata": {},
          "output_type": "display_data"
        },
        {
          "name": "stdout",
          "output_type": "stream",
          "text": [
            "\n",
            "Successfully saved authorization token.\n"
          ]
        }
      ],
      "source": [
        "from ASTER_preprocessing import preprocessing"
      ]
    },
    {
      "cell_type": "code",
      "execution_count": null,
      "metadata": {},
      "outputs": [],
      "source": [
        "# %pip install geemap"
      ]
    },
    {
      "cell_type": "code",
      "execution_count": 6,
      "metadata": {
        "id": "aZznxmEdvLD9"
      },
      "outputs": [],
      "source": [
        "import geemap"
      ]
    },
    {
      "cell_type": "markdown",
      "metadata": {
        "id": "TnGtUSOcqwgN"
      },
      "source": [
        "## Step 4: Google Earth Engine Authentication"
      ]
    },
    {
      "cell_type": "code",
      "execution_count": 10,
      "metadata": {
        "colab": {
          "base_uri": "https://localhost:8080/",
          "height": 197
        },
        "id": "CXyox9VWq1YD",
        "outputId": "da9e2e1b-3438-44ac-a8c3-652e0dd17c75"
      },
      "outputs": [],
      "source": [
        "ee.Authenticate()\n",
        "ee.Initialize(project=\"\")"
      ]
    },
    {
      "cell_type": "markdown",
      "metadata": {
        "id": "tQWLimPAq-NW"
      },
      "source": [
        "## Step 5: Preprocess ASTER Imagery Using a Drawn Polygon"
      ]
    },
    {
      "cell_type": "code",
      "execution_count": 7,
      "metadata": {
        "colab": {
          "base_uri": "https://localhost:8080/",
          "height": 250
        },
        "id": "gBSYZKBUrD-k",
        "outputId": "e8762f09-59c6-4649-91b3-4abcf4862edc"
      },
      "outputs": [
        {
          "data": {
            "text/html": [
              "\n",
              "            <style>\n",
              "                .geemap-dark {\n",
              "                    --jp-widgets-color: white;\n",
              "                    --jp-widgets-label-color: white;\n",
              "                    --jp-ui-font-color1: white;\n",
              "                    --jp-layout-color2: #454545;\n",
              "                    background-color: #383838;\n",
              "                }\n",
              "                    \n",
              "                .geemap-dark .jupyter-button {\n",
              "                    --jp-layout-color3: #383838;\n",
              "                }\n",
              "                \n",
              "                .geemap-colab {\n",
              "                    background-color: var(--colab-primary-surface-color, white);\n",
              "                }\n",
              "                    \n",
              "                .geemap-colab .jupyter-button {\n",
              "                    --jp-layout-color3: var(--colab-primary-surface-color, white);\n",
              "                }\n",
              "            </style>\n",
              "            "
            ],
            "text/plain": [
              "<IPython.core.display.HTML object>"
            ]
          },
          "metadata": {},
          "output_type": "display_data"
        },
        {
          "data": {
            "application/vnd.jupyter.widget-view+json": {
              "model_id": "9ed50b65f30d4427a2d1fa2caca9d906",
              "version_major": 2,
              "version_minor": 0
            },
            "text/plain": [
              "Map(center=[0, 0], controls=(WidgetControl(options=['position', 'transparent_bg'], widget=SearchDataGUI(childr…"
            ]
          },
          "metadata": {},
          "output_type": "display_data"
        }
      ],
      "source": [
        "# Create an interactive map\n",
        "Map = geemap.Map()\n",
        "\n",
        "# Add drawing tools to the map\n",
        "# Map.addDrawingTools()\n",
        "\n",
        "# Display the map\n",
        "Map"
      ]
    },
    {
      "cell_type": "code",
      "execution_count": 11,
      "metadata": {},
      "outputs": [
        {
          "data": {
            "text/html": [
              "\n",
              "            <style>\n",
              "                .geemap-dark {\n",
              "                    --jp-widgets-color: white;\n",
              "                    --jp-widgets-label-color: white;\n",
              "                    --jp-ui-font-color1: white;\n",
              "                    --jp-layout-color2: #454545;\n",
              "                    background-color: #383838;\n",
              "                }\n",
              "                    \n",
              "                .geemap-dark .jupyter-button {\n",
              "                    --jp-layout-color3: #383838;\n",
              "                }\n",
              "                \n",
              "                .geemap-colab {\n",
              "                    background-color: var(--colab-primary-surface-color, white);\n",
              "                }\n",
              "                    \n",
              "                .geemap-colab .jupyter-button {\n",
              "                    --jp-layout-color3: var(--colab-primary-surface-color, white);\n",
              "                }\n",
              "            </style>\n",
              "            "
            ],
            "text/plain": [
              "<IPython.core.display.HTML object>"
            ]
          },
          "metadata": {},
          "output_type": "display_data"
        },
        {
          "ename": "NameError",
          "evalue": "name 'ee_i' is not defined",
          "output_type": "error",
          "traceback": [
            "\u001b[1;31m---------------------------------------------------------------------------\u001b[0m",
            "\u001b[1;31mNameError\u001b[0m                                 Traceback (most recent call last)",
            "Cell \u001b[1;32mIn[11], line 3\u001b[0m\n\u001b[0;32m      1\u001b[0m geometry \u001b[38;5;241m=\u001b[39m Map\u001b[38;5;241m.\u001b[39muser_roi\n\u001b[1;32m----> 3\u001b[0m image \u001b[38;5;241m=\u001b[39m \u001b[43mpreprocessing\u001b[49m\u001b[38;5;241;43m.\u001b[39;49m\u001b[43master_preprocessing\u001b[49m\u001b[43m(\u001b[49m\u001b[43mgeom\u001b[49m\u001b[43m \u001b[49m\u001b[38;5;241;43m=\u001b[39;49m\u001b[43m \u001b[49m\u001b[43mgeometry\u001b[49m\u001b[43m)\u001b[49m[\u001b[38;5;124m'\u001b[39m\u001b[38;5;124mimagery\u001b[39m\u001b[38;5;124m'\u001b[39m]\n\u001b[0;32m      4\u001b[0m Map\u001b[38;5;241m.\u001b[39maddLayer(image)\n",
            "File \u001b[1;32mp:\\Eli\\Mining_for_the_Future\\ASTER_Preprocessing\\ASTER_preprocessing\\ASTER_preprocessing\\preprocessing.py:54\u001b[0m, in \u001b[0;36master_preprocessing\u001b[1;34m(geom)\u001b[0m\n\u001b[0;32m     52\u001b[0m coll \u001b[38;5;241m=\u001b[39m coll\u001b[38;5;241m.\u001b[39mmap(aster_reflectance)\n\u001b[0;32m     53\u001b[0m coll \u001b[38;5;241m=\u001b[39m coll\u001b[38;5;241m.\u001b[39mmap(aster_brightness_temp)\n\u001b[1;32m---> 54\u001b[0m coll \u001b[38;5;241m=\u001b[39m \u001b[43mcoll\u001b[49m\u001b[38;5;241;43m.\u001b[39;49m\u001b[43mmap\u001b[49m\u001b[43m(\u001b[49m\u001b[43mwater_mask\u001b[49m\u001b[43m)\u001b[49m\n\u001b[0;32m     55\u001b[0m coll \u001b[38;5;241m=\u001b[39m coll\u001b[38;5;241m.\u001b[39mmap(aster_cloud_mask)\n\u001b[0;32m     56\u001b[0m coll \u001b[38;5;241m=\u001b[39m coll\u001b[38;5;241m.\u001b[39mmap(aster_snow_mask)\n",
            "File \u001b[1;32mc:\\Users\\eweav\\anaconda3\\envs\\blank_test_aster_preprocessing\\lib\\site-packages\\ee\\_utils.py:38\u001b[0m, in \u001b[0;36maccept_opt_prefix.<locals>.opt_fixed.<locals>.wrapper\u001b[1;34m(*args, **kwargs)\u001b[0m\n\u001b[0;32m     36\u001b[0m     \u001b[38;5;28;01mif\u001b[39;00m new_key \u001b[38;5;129;01mnot\u001b[39;00m \u001b[38;5;129;01min\u001b[39;00m kwargs:\n\u001b[0;32m     37\u001b[0m       kwargs[new_key] \u001b[38;5;241m=\u001b[39m old_key_val\n\u001b[1;32m---> 38\u001b[0m \u001b[38;5;28;01mreturn\u001b[39;00m func(\u001b[38;5;241m*\u001b[39margs, \u001b[38;5;241m*\u001b[39m\u001b[38;5;241m*\u001b[39mkwargs)\n",
            "File \u001b[1;32mc:\\Users\\eweav\\anaconda3\\envs\\blank_test_aster_preprocessing\\lib\\site-packages\\ee\\collection.py:245\u001b[0m, in \u001b[0;36mCollection.map\u001b[1;34m(self, algorithm, dropNulls)\u001b[0m\n\u001b[0;32m    242\u001b[0m element_type \u001b[38;5;241m=\u001b[39m \u001b[38;5;28mself\u001b[39m\u001b[38;5;241m.\u001b[39melementType()\n\u001b[0;32m    243\u001b[0m with_cast \u001b[38;5;241m=\u001b[39m \u001b[38;5;28;01mlambda\u001b[39;00m e: algorithm(element_type(e, \u001b[38;5;28;01mNone\u001b[39;00m))\n\u001b[0;32m    244\u001b[0m \u001b[38;5;28;01mreturn\u001b[39;00m \u001b[38;5;28mself\u001b[39m\u001b[38;5;241m.\u001b[39m_cast(\n\u001b[1;32m--> 245\u001b[0m     \u001b[43mapifunction\u001b[49m\u001b[38;5;241;43m.\u001b[39;49m\u001b[43mApiFunction\u001b[49m\u001b[38;5;241;43m.\u001b[39;49m\u001b[43mcall_\u001b[49m\u001b[43m(\u001b[49m\n\u001b[0;32m    246\u001b[0m \u001b[43m        \u001b[49m\u001b[38;5;124;43m'\u001b[39;49m\u001b[38;5;124;43mCollection.map\u001b[39;49m\u001b[38;5;124;43m'\u001b[39;49m\u001b[43m,\u001b[49m\u001b[43m \u001b[49m\u001b[38;5;28;43mself\u001b[39;49m\u001b[43m,\u001b[49m\u001b[43m \u001b[49m\u001b[43mwith_cast\u001b[49m\u001b[43m,\u001b[49m\u001b[43m \u001b[49m\u001b[43mdropNulls\u001b[49m\n\u001b[0;32m    247\u001b[0m \u001b[43m    \u001b[49m\u001b[43m)\u001b[49m\n\u001b[0;32m    248\u001b[0m )\n",
            "File \u001b[1;32mc:\\Users\\eweav\\anaconda3\\envs\\blank_test_aster_preprocessing\\lib\\site-packages\\ee\\apifunction.py:84\u001b[0m, in \u001b[0;36mApiFunction.call_\u001b[1;34m(cls, name, *args, **kwargs)\u001b[0m\n\u001b[0;32m     71\u001b[0m \u001b[38;5;129m@classmethod\u001b[39m\n\u001b[0;32m     72\u001b[0m \u001b[38;5;28;01mdef\u001b[39;00m \u001b[38;5;21mcall_\u001b[39m(\u001b[38;5;28mcls\u001b[39m, name: \u001b[38;5;28mstr\u001b[39m, \u001b[38;5;241m*\u001b[39margs: Any, \u001b[38;5;241m*\u001b[39m\u001b[38;5;241m*\u001b[39mkwargs: Any) \u001b[38;5;241m-\u001b[39m\u001b[38;5;241m>\u001b[39m Any:\n\u001b[0;32m     73\u001b[0m \u001b[38;5;250m  \u001b[39m\u001b[38;5;124;03m\"\"\"Call a named API function with positional and keyword arguments.\u001b[39;00m\n\u001b[0;32m     74\u001b[0m \n\u001b[0;32m     75\u001b[0m \u001b[38;5;124;03m  Args:\u001b[39;00m\n\u001b[1;32m   (...)\u001b[0m\n\u001b[0;32m     82\u001b[0m \u001b[38;5;124;03m    a recognized return type, the returned value will be cast to that type.\u001b[39;00m\n\u001b[0;32m     83\u001b[0m \u001b[38;5;124;03m  \"\"\"\u001b[39;00m\n\u001b[1;32m---> 84\u001b[0m   \u001b[38;5;28;01mreturn\u001b[39;00m \u001b[38;5;28mcls\u001b[39m\u001b[38;5;241m.\u001b[39mlookup(name)\u001b[38;5;241m.\u001b[39mcall(\u001b[38;5;241m*\u001b[39margs, \u001b[38;5;241m*\u001b[39m\u001b[38;5;241m*\u001b[39mkwargs)\n",
            "File \u001b[1;32mc:\\Users\\eweav\\anaconda3\\envs\\blank_test_aster_preprocessing\\lib\\site-packages\\ee\\function.py:61\u001b[0m, in \u001b[0;36mFunction.call\u001b[1;34m(self, *args, **kwargs)\u001b[0m\n\u001b[0;32m     49\u001b[0m \u001b[38;5;28;01mdef\u001b[39;00m \u001b[38;5;21mcall\u001b[39m(\u001b[38;5;28mself\u001b[39m, \u001b[38;5;241m*\u001b[39margs, \u001b[38;5;241m*\u001b[39m\u001b[38;5;241m*\u001b[39mkwargs):\n\u001b[0;32m     50\u001b[0m \u001b[38;5;250m  \u001b[39m\u001b[38;5;124;03m\"\"\"Calls the function with the given positional and keyword arguments.\u001b[39;00m\n\u001b[0;32m     51\u001b[0m \n\u001b[0;32m     52\u001b[0m \u001b[38;5;124;03m  Args:\u001b[39;00m\n\u001b[1;32m   (...)\u001b[0m\n\u001b[0;32m     59\u001b[0m \u001b[38;5;124;03m    to that type.\u001b[39;00m\n\u001b[0;32m     60\u001b[0m \u001b[38;5;124;03m  \"\"\"\u001b[39;00m\n\u001b[1;32m---> 61\u001b[0m   \u001b[38;5;28;01mreturn\u001b[39;00m \u001b[38;5;28;43mself\u001b[39;49m\u001b[38;5;241;43m.\u001b[39;49m\u001b[43mapply\u001b[49m\u001b[43m(\u001b[49m\u001b[38;5;28;43mself\u001b[39;49m\u001b[38;5;241;43m.\u001b[39;49m\u001b[43mnameArgs\u001b[49m\u001b[43m(\u001b[49m\u001b[43margs\u001b[49m\u001b[43m,\u001b[49m\u001b[43m \u001b[49m\u001b[43mkwargs\u001b[49m\u001b[43m)\u001b[49m\u001b[43m)\u001b[49m\n",
            "File \u001b[1;32mc:\\Users\\eweav\\anaconda3\\envs\\blank_test_aster_preprocessing\\lib\\site-packages\\ee\\function.py:74\u001b[0m, in \u001b[0;36mFunction.apply\u001b[1;34m(self, named_args)\u001b[0m\n\u001b[0;32m     63\u001b[0m \u001b[38;5;28;01mdef\u001b[39;00m \u001b[38;5;21mapply\u001b[39m(\u001b[38;5;28mself\u001b[39m, named_args):\n\u001b[0;32m     64\u001b[0m \u001b[38;5;250m  \u001b[39m\u001b[38;5;124;03m\"\"\"Calls the function with a dictionary of named arguments.\u001b[39;00m\n\u001b[0;32m     65\u001b[0m \n\u001b[0;32m     66\u001b[0m \u001b[38;5;124;03m  Args:\u001b[39;00m\n\u001b[1;32m   (...)\u001b[0m\n\u001b[0;32m     72\u001b[0m \u001b[38;5;124;03m    to that type.\u001b[39;00m\n\u001b[0;32m     73\u001b[0m \u001b[38;5;124;03m  \"\"\"\u001b[39;00m\n\u001b[1;32m---> 74\u001b[0m   result \u001b[38;5;241m=\u001b[39m computedobject\u001b[38;5;241m.\u001b[39mComputedObject(\u001b[38;5;28mself\u001b[39m, \u001b[38;5;28;43mself\u001b[39;49m\u001b[38;5;241;43m.\u001b[39;49m\u001b[43mpromoteArgs\u001b[49m\u001b[43m(\u001b[49m\u001b[43mnamed_args\u001b[49m\u001b[43m)\u001b[49m)\n\u001b[0;32m     75\u001b[0m   \u001b[38;5;28;01mreturn\u001b[39;00m Function\u001b[38;5;241m.\u001b[39m_promoter(result, \u001b[38;5;28mself\u001b[39m\u001b[38;5;241m.\u001b[39mgetReturnType())\n",
            "File \u001b[1;32mc:\\Users\\eweav\\anaconda3\\envs\\blank_test_aster_preprocessing\\lib\\site-packages\\ee\\function.py:102\u001b[0m, in \u001b[0;36mFunction.promoteArgs\u001b[1;34m(self, args)\u001b[0m\n\u001b[0;32m    100\u001b[0m name \u001b[38;5;241m=\u001b[39m arg_spec[\u001b[38;5;124m'\u001b[39m\u001b[38;5;124mname\u001b[39m\u001b[38;5;124m'\u001b[39m]\n\u001b[0;32m    101\u001b[0m \u001b[38;5;28;01mif\u001b[39;00m name \u001b[38;5;129;01min\u001b[39;00m args:\n\u001b[1;32m--> 102\u001b[0m   promoted_args[name] \u001b[38;5;241m=\u001b[39m \u001b[43mFunction\u001b[49m\u001b[38;5;241;43m.\u001b[39;49m\u001b[43m_promoter\u001b[49m\u001b[43m(\u001b[49m\u001b[43margs\u001b[49m\u001b[43m[\u001b[49m\u001b[43mname\u001b[49m\u001b[43m]\u001b[49m\u001b[43m,\u001b[49m\u001b[43m \u001b[49m\u001b[43marg_spec\u001b[49m\u001b[43m[\u001b[49m\u001b[38;5;124;43m'\u001b[39;49m\u001b[38;5;124;43mtype\u001b[39;49m\u001b[38;5;124;43m'\u001b[39;49m\u001b[43m]\u001b[49m\u001b[43m)\u001b[49m\n\u001b[0;32m    103\u001b[0m \u001b[38;5;28;01melif\u001b[39;00m \u001b[38;5;129;01mnot\u001b[39;00m arg_spec\u001b[38;5;241m.\u001b[39mget(\u001b[38;5;124m'\u001b[39m\u001b[38;5;124moptional\u001b[39m\u001b[38;5;124m'\u001b[39m):\n\u001b[0;32m    104\u001b[0m   \u001b[38;5;28;01mraise\u001b[39;00m ee_exception\u001b[38;5;241m.\u001b[39mEEException(\n\u001b[0;32m    105\u001b[0m       \u001b[38;5;124m'\u001b[39m\u001b[38;5;124mRequired argument (\u001b[39m\u001b[38;5;132;01m%s\u001b[39;00m\u001b[38;5;124m) missing to function: \u001b[39m\u001b[38;5;132;01m%s\u001b[39;00m\u001b[38;5;124m'\u001b[39m\n\u001b[0;32m    106\u001b[0m       \u001b[38;5;241m%\u001b[39m (name, signature\u001b[38;5;241m.\u001b[39mget(\u001b[38;5;124m'\u001b[39m\u001b[38;5;124mname\u001b[39m\u001b[38;5;124m'\u001b[39m)))\n",
            "File \u001b[1;32mc:\\Users\\eweav\\anaconda3\\envs\\blank_test_aster_preprocessing\\lib\\site-packages\\ee\\__init__.py:290\u001b[0m, in \u001b[0;36m_Promote\u001b[1;34m(arg, a_class)\u001b[0m\n\u001b[0;32m    287\u001b[0m \u001b[38;5;28;01melif\u001b[39;00m \u001b[38;5;28mcallable\u001b[39m(arg):\n\u001b[0;32m    288\u001b[0m   \u001b[38;5;66;03m# A native function that needs to be wrapped.\u001b[39;00m\n\u001b[0;32m    289\u001b[0m   args_count \u001b[38;5;241m=\u001b[39m \u001b[38;5;28mlen\u001b[39m(inspect\u001b[38;5;241m.\u001b[39mgetfullargspec(arg)\u001b[38;5;241m.\u001b[39margs)\n\u001b[1;32m--> 290\u001b[0m   \u001b[38;5;28;01mreturn\u001b[39;00m \u001b[43mCustomFunction\u001b[49m\u001b[38;5;241;43m.\u001b[39;49m\u001b[43mcreate\u001b[49m\u001b[43m(\u001b[49m\u001b[43marg\u001b[49m\u001b[43m,\u001b[49m\u001b[43m \u001b[49m\u001b[38;5;124;43m'\u001b[39;49m\u001b[38;5;124;43mObject\u001b[39;49m\u001b[38;5;124;43m'\u001b[39;49m\u001b[43m,\u001b[49m\u001b[43m \u001b[49m\u001b[43m[\u001b[49m\u001b[38;5;124;43m'\u001b[39;49m\u001b[38;5;124;43mObject\u001b[39;49m\u001b[38;5;124;43m'\u001b[39;49m\u001b[43m]\u001b[49m\u001b[43m \u001b[49m\u001b[38;5;241;43m*\u001b[39;49m\u001b[43m \u001b[49m\u001b[43margs_count\u001b[49m\u001b[43m)\u001b[49m\n\u001b[0;32m    291\u001b[0m \u001b[38;5;28;01melif\u001b[39;00m \u001b[38;5;28misinstance\u001b[39m(arg, Encodable):\n\u001b[0;32m    292\u001b[0m   \u001b[38;5;66;03m# An ee.Function or a computed function like the return value of\u001b[39;00m\n\u001b[0;32m    293\u001b[0m   \u001b[38;5;66;03m# Image.parseExpression().\u001b[39;00m\n\u001b[0;32m    294\u001b[0m   \u001b[38;5;28;01mreturn\u001b[39;00m arg\n",
            "File \u001b[1;32mc:\\Users\\eweav\\anaconda3\\envs\\blank_test_aster_preprocessing\\lib\\site-packages\\ee\\customfunction.py:126\u001b[0m, in \u001b[0;36mCustomFunction.create\u001b[1;34m(func, return_type, arg_types)\u001b[0m\n\u001b[0;32m    120\u001b[0m args \u001b[38;5;241m=\u001b[39m [{\u001b[38;5;124m'\u001b[39m\u001b[38;5;124mname\u001b[39m\u001b[38;5;124m'\u001b[39m: \u001b[38;5;28;01mNone\u001b[39;00m, \u001b[38;5;124m'\u001b[39m\u001b[38;5;124mtype\u001b[39m\u001b[38;5;124m'\u001b[39m: StringifyType(i)} \u001b[38;5;28;01mfor\u001b[39;00m i \u001b[38;5;129;01min\u001b[39;00m arg_types]\n\u001b[0;32m    121\u001b[0m signature \u001b[38;5;241m=\u001b[39m {\n\u001b[0;32m    122\u001b[0m     \u001b[38;5;124m'\u001b[39m\u001b[38;5;124mname\u001b[39m\u001b[38;5;124m'\u001b[39m: \u001b[38;5;124m'\u001b[39m\u001b[38;5;124m'\u001b[39m,\n\u001b[0;32m    123\u001b[0m     \u001b[38;5;124m'\u001b[39m\u001b[38;5;124mreturns\u001b[39m\u001b[38;5;124m'\u001b[39m: StringifyType(return_type),\n\u001b[0;32m    124\u001b[0m     \u001b[38;5;124m'\u001b[39m\u001b[38;5;124margs\u001b[39m\u001b[38;5;124m'\u001b[39m: args\n\u001b[0;32m    125\u001b[0m }\n\u001b[1;32m--> 126\u001b[0m \u001b[38;5;28;01mreturn\u001b[39;00m \u001b[43mCustomFunction\u001b[49m\u001b[43m(\u001b[49m\u001b[43msignature\u001b[49m\u001b[43m,\u001b[49m\u001b[43m \u001b[49m\u001b[43mfunc\u001b[49m\u001b[43m)\u001b[49m\n",
            "File \u001b[1;32mc:\\Users\\eweav\\anaconda3\\envs\\blank_test_aster_preprocessing\\lib\\site-packages\\ee\\customfunction.py:40\u001b[0m, in \u001b[0;36mCustomFunction.__init__\u001b[1;34m(self, signature, body)\u001b[0m\n\u001b[0;32m     26\u001b[0m \u001b[38;5;250m\u001b[39m\u001b[38;5;124;03m\"\"\"Creates a function defined by a given expression with unbound variables.\u001b[39;00m\n\u001b[0;32m     27\u001b[0m \n\u001b[0;32m     28\u001b[0m \u001b[38;5;124;03mThe expression is created by evaluating the given function\u001b[39;00m\n\u001b[1;32m   (...)\u001b[0m\n\u001b[0;32m     35\u001b[0m \u001b[38;5;124;03m  body: The Python function to evaluate.\u001b[39;00m\n\u001b[0;32m     36\u001b[0m \u001b[38;5;124;03m\"\"\"\u001b[39;00m\n\u001b[0;32m     37\u001b[0m variables \u001b[38;5;241m=\u001b[39m [CustomFunction\u001b[38;5;241m.\u001b[39mvariable(arg[\u001b[38;5;124m'\u001b[39m\u001b[38;5;124mtype\u001b[39m\u001b[38;5;124m'\u001b[39m], arg[\u001b[38;5;124m'\u001b[39m\u001b[38;5;124mname\u001b[39m\u001b[38;5;124m'\u001b[39m])\n\u001b[0;32m     38\u001b[0m              \u001b[38;5;28;01mfor\u001b[39;00m arg \u001b[38;5;129;01min\u001b[39;00m signature[\u001b[38;5;124m'\u001b[39m\u001b[38;5;124margs\u001b[39m\u001b[38;5;124m'\u001b[39m]]\n\u001b[1;32m---> 40\u001b[0m \u001b[38;5;28;01mif\u001b[39;00m \u001b[43mbody\u001b[49m\u001b[43m(\u001b[49m\u001b[38;5;241;43m*\u001b[39;49m\u001b[43mvariables\u001b[49m\u001b[43m)\u001b[49m \u001b[38;5;129;01mis\u001b[39;00m \u001b[38;5;28;01mNone\u001b[39;00m:\n\u001b[0;32m     41\u001b[0m   \u001b[38;5;28;01mraise\u001b[39;00m ee_exception\u001b[38;5;241m.\u001b[39mEEException(\u001b[38;5;124m'\u001b[39m\u001b[38;5;124mUser-defined methods must return a value\u001b[39m\u001b[38;5;124m'\u001b[39m)\n\u001b[0;32m     43\u001b[0m \u001b[38;5;66;03m# The signature of the function.\u001b[39;00m\n",
            "File \u001b[1;32mc:\\Users\\eweav\\anaconda3\\envs\\blank_test_aster_preprocessing\\lib\\site-packages\\ee\\collection.py:243\u001b[0m, in \u001b[0;36mCollection.map.<locals>.<lambda>\u001b[1;34m(e)\u001b[0m\n\u001b[0;32m    225\u001b[0m \u001b[38;5;250m\u001b[39m\u001b[38;5;124;03m\"\"\"Maps an algorithm over a collection.\u001b[39;00m\n\u001b[0;32m    226\u001b[0m \n\u001b[0;32m    227\u001b[0m \u001b[38;5;124;03mArgs:\u001b[39;00m\n\u001b[1;32m   (...)\u001b[0m\n\u001b[0;32m    240\u001b[0m \u001b[38;5;124;03m  ee_exception.EEException: if algorithm is not a function.\u001b[39;00m\n\u001b[0;32m    241\u001b[0m \u001b[38;5;124;03m\"\"\"\u001b[39;00m\n\u001b[0;32m    242\u001b[0m element_type \u001b[38;5;241m=\u001b[39m \u001b[38;5;28mself\u001b[39m\u001b[38;5;241m.\u001b[39melementType()\n\u001b[1;32m--> 243\u001b[0m with_cast \u001b[38;5;241m=\u001b[39m \u001b[38;5;28;01mlambda\u001b[39;00m e: \u001b[43malgorithm\u001b[49m\u001b[43m(\u001b[49m\u001b[43melement_type\u001b[49m\u001b[43m(\u001b[49m\u001b[43me\u001b[49m\u001b[43m,\u001b[49m\u001b[43m \u001b[49m\u001b[38;5;28;43;01mNone\u001b[39;49;00m\u001b[43m)\u001b[49m\u001b[43m)\u001b[49m\n\u001b[0;32m    244\u001b[0m \u001b[38;5;28;01mreturn\u001b[39;00m \u001b[38;5;28mself\u001b[39m\u001b[38;5;241m.\u001b[39m_cast(\n\u001b[0;32m    245\u001b[0m     apifunction\u001b[38;5;241m.\u001b[39mApiFunction\u001b[38;5;241m.\u001b[39mcall_(\n\u001b[0;32m    246\u001b[0m         \u001b[38;5;124m'\u001b[39m\u001b[38;5;124mCollection.map\u001b[39m\u001b[38;5;124m'\u001b[39m, \u001b[38;5;28mself\u001b[39m, with_cast, dropNulls\n\u001b[0;32m    247\u001b[0m     )\n\u001b[0;32m    248\u001b[0m )\n",
            "File \u001b[1;32mp:\\Eli\\Mining_for_the_Future\\ASTER_Preprocessing\\ASTER_preprocessing\\ASTER_preprocessing\\masks.py:12\u001b[0m, in \u001b[0;36mwater_mask\u001b[1;34m(image)\u001b[0m\n\u001b[0;32m      4\u001b[0m \u001b[38;5;28;01mdef\u001b[39;00m \u001b[38;5;21mwater_mask\u001b[39m(image):\n\u001b[0;32m      5\u001b[0m \u001b[38;5;250m  \u001b[39m\u001b[38;5;124;03m\"\"\"\u001b[39;00m\n\u001b[0;32m      6\u001b[0m \u001b[38;5;124;03m  Takes an ASTER image and masks pixels that are classified as surface water \u001b[39;00m\n\u001b[0;32m      7\u001b[0m \u001b[38;5;124;03m  in the month and year that the image was captured according to the\u001b[39;00m\n\u001b[1;32m   (...)\u001b[0m\n\u001b[0;32m     10\u001b[0m \u001b[38;5;124;03m  Returns a masked image.\u001b[39;00m\n\u001b[0;32m     11\u001b[0m \u001b[38;5;124;03m  \"\"\"\u001b[39;00m\n\u001b[1;32m---> 12\u001b[0m   month_water \u001b[38;5;241m=\u001b[39m \u001b[43mee_i\u001b[49m\u001b[38;5;241m.\u001b[39mImageCollection(\u001b[38;5;124m\"\u001b[39m\u001b[38;5;124mJRC/GSW1_4/MonthlyHistory\u001b[39m\u001b[38;5;124m\"\u001b[39m)\n\u001b[0;32m     13\u001b[0m   m \u001b[38;5;241m=\u001b[39m image\u001b[38;5;241m.\u001b[39mdate()\u001b[38;5;241m.\u001b[39mget(\u001b[38;5;124m'\u001b[39m\u001b[38;5;124mmonth\u001b[39m\u001b[38;5;124m'\u001b[39m)\n\u001b[0;32m     14\u001b[0m   y \u001b[38;5;241m=\u001b[39m image\u001b[38;5;241m.\u001b[39mdate()\u001b[38;5;241m.\u001b[39mget(\u001b[38;5;124m'\u001b[39m\u001b[38;5;124myear\u001b[39m\u001b[38;5;124m'\u001b[39m)\n",
            "\u001b[1;31mNameError\u001b[0m: name 'ee_i' is not defined"
          ]
        }
      ],
      "source": [
        "geometry = Map.user_roi\n",
        "\n",
        "image = preprocessing.aster_preprocessing(geom = geometry)['imagery']\n",
        "Map.addLayer(image)"
      ]
    },
    {
      "cell_type": "code",
      "execution_count": 8,
      "metadata": {
        "id": "VSSGvI48s8TG"
      },
      "outputs": [
        {
          "data": {
            "text/html": [
              "\n",
              "            <style>\n",
              "                .geemap-dark {\n",
              "                    --jp-widgets-color: white;\n",
              "                    --jp-widgets-label-color: white;\n",
              "                    --jp-ui-font-color1: white;\n",
              "                    --jp-layout-color2: #454545;\n",
              "                    background-color: #383838;\n",
              "                }\n",
              "                    \n",
              "                .geemap-dark .jupyter-button {\n",
              "                    --jp-layout-color3: #383838;\n",
              "                }\n",
              "                \n",
              "                .geemap-colab {\n",
              "                    background-color: var(--colab-primary-surface-color, white);\n",
              "                }\n",
              "                    \n",
              "                .geemap-colab .jupyter-button {\n",
              "                    --jp-layout-color3: var(--colab-primary-surface-color, white);\n",
              "                }\n",
              "            </style>\n",
              "            "
            ],
            "text/plain": [
              "<IPython.core.display.HTML object>"
            ]
          },
          "metadata": {},
          "output_type": "display_data"
        },
        {
          "ename": "AttributeError",
          "evalue": "'Geometry' object has no attribute 'geometry'",
          "output_type": "error",
          "traceback": [
            "\u001b[1;31m---------------------------------------------------------------------------\u001b[0m",
            "\u001b[1;31mAttributeError\u001b[0m                            Traceback (most recent call last)",
            "Cell \u001b[1;32mIn[8], line 5\u001b[0m\n\u001b[0;32m      2\u001b[0m geometry \u001b[38;5;241m=\u001b[39m Map\u001b[38;5;241m.\u001b[39muser_roi\n\u001b[0;32m      4\u001b[0m \u001b[38;5;66;03m# Check if a geometry was drawn and it's a Polygon\u001b[39;00m\n\u001b[1;32m----> 5\u001b[0m \u001b[38;5;28;01mif\u001b[39;00m geometry \u001b[38;5;129;01mis\u001b[39;00m \u001b[38;5;129;01mnot\u001b[39;00m \u001b[38;5;28;01mNone\u001b[39;00m \u001b[38;5;129;01mand\u001b[39;00m \u001b[43mgeometry\u001b[49m\u001b[38;5;241;43m.\u001b[39;49m\u001b[43mgeometry\u001b[49m()\u001b[38;5;241m.\u001b[39mtype()\u001b[38;5;241m.\u001b[39mgetInfo() \u001b[38;5;241m==\u001b[39m \u001b[38;5;124m'\u001b[39m\u001b[38;5;124mPolygon\u001b[39m\u001b[38;5;124m'\u001b[39m:\n\u001b[0;32m      6\u001b[0m     \u001b[38;5;66;03m# Run the preprocessing\u001b[39;00m\n\u001b[0;32m      7\u001b[0m     result \u001b[38;5;241m=\u001b[39m preprocessing\u001b[38;5;241m.\u001b[39master_preprocessing(geometry\u001b[38;5;241m.\u001b[39mgeometry())\n\u001b[0;32m      8\u001b[0m     \u001b[38;5;66;03m# `result` is a dictionary containing the preprocessed image and metadata\u001b[39;00m\n\u001b[0;32m      9\u001b[0m \u001b[38;5;28;01melse\u001b[39;00m:\n",
            "\u001b[1;31mAttributeError\u001b[0m: 'Geometry' object has no attribute 'geometry'"
          ]
        }
      ],
      "source": [
        "# Get the last drawn feature\n",
        "geometry = Map.user_roi\n",
        "\n",
        "# Check if a geometry was drawn and it's a Polygon\n",
        "if geometry is not None and geometry.geometry().type().getInfo() == 'Polygon':\n",
        "    # Run the preprocessing\n",
        "    result = preprocessing.aster_preprocessing(geometry.geometry())\n",
        "    # `result` is a dictionary containing the preprocessed image and metadata\n",
        "else:\n",
        "    print(\"Please draw a polygon on the map.\")"
      ]
    }
  ],
  "metadata": {
    "colab": {
      "provenance": []
    },
    "kernelspec": {
      "display_name": "Python 3",
      "name": "python3"
    },
    "language_info": {
      "codemirror_mode": {
        "name": "ipython",
        "version": 3
      },
      "file_extension": ".py",
      "mimetype": "text/x-python",
      "name": "python",
      "nbconvert_exporter": "python",
      "pygments_lexer": "ipython3",
      "version": "3.10.13"
    }
  },
  "nbformat": 4,
  "nbformat_minor": 0
}
